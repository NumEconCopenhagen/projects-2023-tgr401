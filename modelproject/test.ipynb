{
 "cells": [
  {
   "cell_type": "code",
   "execution_count": 280,
   "metadata": {},
   "outputs": [
    {
     "name": "stdout",
     "output_type": "stream",
     "text": [
      "[6.]\n",
      "[-8.18181818]\n",
      "[-0.81818182]\n"
     ]
    }
   ],
   "source": [
    "from scipy import optimize\n",
    "import matplotlib.pyplot as plt\n",
    "import numpy as np\n",
    "r_guess = 1\n",
    "def tIS_num(r,Y=100,G=7,t=0.3,a=0.8,b=0.5,c=0.2,d=0.8):\n",
    "    PE = Y\n",
    "    C = a+b*(Y-t*Y)\n",
    "    I = c-d*r\n",
    "    eqIS = PE - (C + I + G)\n",
    "    return eqIS\n",
    "\n",
    "# what value of r that makes the LM_num and IS_num functions =0, given the parameter values\n",
    "#shows how changes in the parameters impact r\n",
    "def tr_IS_num(Y=1000,G=70,t=0.3,a=0.8,b=0.5,c=0.2,d=0.8):\n",
    "    IS_args = (Y,G,t,a,b,c,d)\n",
    "    return optimize.fsolve(tIS_num, r_guess, args=IS_args)\n",
    "\n",
    "def IS_num(r,Y=1000,G=200,T=300,a=1000,b=0.5,c=50,d=1000):\n",
    "    PE = Y\n",
    "    C = a+b*(Y-T)\n",
    "    I = c-d*r\n",
    "    eqIS = PE - (C + I + G)\n",
    "    return eqIS\n",
    "\n",
    "def LM_num(r,Y=1000,M=1000,P=1,e=0.25,f=50):\n",
    "    L = e*Y - f*r\n",
    "    eqLM = M/P - L\n",
    "    return eqLM\n",
    "\n",
    "# what value of r that makes the LM_num and IS_num functions =0, given the parameter values\n",
    "#shows how changes in the parameters impact r\n",
    "def r_IS_num(Y=1000,G=200,T=300,a=1000,b=0.5,c=50,d=1000):\n",
    "    IS_args = (Y,G,T,a,b,c,d)\n",
    "    return optimize.fsolve(IS_num, r_guess, args=IS_args)\n",
    "def r_LM_num(Y=1000,M=1000,P=1,e=0.25,f=50):\n",
    "    LM_args = (Y,M,P,e,f)\n",
    "    return optimize.fsolve(LM_num, r_guess, args=LM_args)\n",
    "\n",
    "print(tr_IS_num(Y=1000,G=200,t=0.3,a=1000,c=50,d=100))\n",
    "print(r_IS_num(Y=3836.363636,T=300,a=1000,c=50,d=100))\n",
    "print(r_LM_num(Y=3836.363636,M=1000,e=0.25,f=50))"
   ]
  },
  {
   "cell_type": "code",
   "execution_count": 279,
   "metadata": {},
   "outputs": [
    {
     "data": {
      "text/plain": [
       "<matplotlib.legend.Legend at 0x26059523580>"
      ]
     },
     "execution_count": 279,
     "metadata": {},
     "output_type": "execute_result"
    },
    {
     "data": {
      "image/png": "[encoded data removed]",
      "text/plain": [
       "<Figure size 640x480 with 1 Axes>"
      ]
     },
     "metadata": {},
     "output_type": "display_data"
    }
   ],
   "source": [
    "IS_graph_num = []\n",
    "LM_graph_num = []\n",
    "Y_vec = [1000,2000,3000,4000,5000]\n",
    "for o in Y_vec:\n",
    "    r = r_IS_num(Y=o,d=20)\n",
    "    IS_graph_num.append(r)\n",
    "\n",
    "for o in Y_vec:\n",
    "    r = r_LM_num(Y=o)\n",
    "    LM_graph_num.append(r)\n",
    "\n",
    "# create graph for IS-LM\n",
    "plt.figure()\n",
    "plt.title(\"IS-LM\")\n",
    "plt.ylabel(\"$r$\")\n",
    "plt.xlabel(\"$Y$\")\n",
    "plt.plot(Y_vec,IS_graph_num, label=\"IS\", color='blue')\n",
    "plt.plot(Y_vec,LM_graph_num, label=\"LM\", color='orange')\n",
    "\n",
    "plt.legend()"
   ]
  },
  {
   "cell_type": "code",
   "execution_count": 2,
   "metadata": {},
   "outputs": [
    {
     "data": {
      "text/plain": [
       "5.0"
      ]
     },
     "execution_count": 2,
     "metadata": {},
     "output_type": "execute_result"
    }
   ],
   "source": [
    "hej = 5\n",
    "float(hej)"
   ]
  },
  {
   "cell_type": "code",
   "execution_count": null,
   "metadata": {},
   "outputs": [],
   "source": [
    "def AD_num(G=200, T=300, M=1000, P=1, a=1000, b=0.75, c=50, d=100, e=0.25, f=50):\n",
    "    Y_guess = 1000\n",
    "    Y_optimal = optimize.fsolve(lambda Y: r_IS_num(Y, G, T, a, b, c, d) - r_LM_num(Y, M, P, e, f), Y_guess)[0]\n",
    "    return Y_optimal"
   ]
  },
  {
   "cell_type": "code",
   "execution_count": 1,
   "metadata": {},
   "outputs": [],
   "source": [
    "import sympy as sm\n",
    "PE,Y,C,I,G,a,b,T,c,d,r,M,P,L,e,f = sm.symbols(\"PE Y C I G a b T c d r M P L e f\")\n",
    "PE = sm.symbols(\"PE\")\n",
    "Y = sm.symbols(\"Y\")\n",
    "C = sm.symbols(\"C\")\n",
    "I = sm.symbols(\"I\")\n",
    "G = sm.symbols(\"G\")\n",
    "a = sm.symbols(\"a\")\n",
    "b = sm.symbols(\"b\")\n",
    "T = sm.symbols(\"T\")\n",
    "c = sm.symbols(\"c\")\n",
    "d = sm.symbols(\"d\")\n",
    "r = sm.symbols(\"r\")\n",
    "M = sm.symbols(\"M\")\n",
    "P = sm.symbols(\"P\")\n",
    "L = sm.symbols(\"L\")\n",
    "e = sm.symbols(\"e\")\n",
    "f = sm.symbols(\"f\")"
   ]
  }
 ],
 "metadata": {
  "kernelspec": {
   "display_name": "base",
   "language": "python",
   "name": "python3"
  },
  "language_info": {
   "codemirror_mode": {
    "name": "ipython",
    "version": 3
   },
   "file_extension": ".py",
   "mimetype": "text/x-python",
   "name": "python",
   "nbconvert_exporter": "python",
   "pygments_lexer": "ipython3",
   "version": "3.9.16"
  },
  "orig_nbformat": 4
 },
 "nbformat": 4,
 "nbformat_minor": 2
}
