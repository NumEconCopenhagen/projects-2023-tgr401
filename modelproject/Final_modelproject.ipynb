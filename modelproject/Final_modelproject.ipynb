{
 "cells": [
  {
   "attachments": {},
   "cell_type": "markdown",
   "metadata": {},
   "source": [
    "# **IS-LM model**"
   ]
  },
  {
   "attachments": {},
   "cell_type": "markdown",
   "metadata": {},
   "source": [
    "**Imports and set magics:**"
   ]
  },
  {
   "cell_type": "code",
   "execution_count": 1,
   "metadata": {},
   "outputs": [],
   "source": [
    "import numpy as np\n",
    "from scipy import optimize\n",
    "import sympy as sm\n",
    "import matplotlib.pyplot as plt\n",
    "\n",
    "# autoreload modules when code is run\n",
    "%load_ext autoreload\n",
    "%autoreload 2"
   ]
  },
  {
   "attachments": {},
   "cell_type": "markdown",
   "metadata": {},
   "source": [
    "# Model description"
   ]
  },
  {
   "attachments": {},
   "cell_type": "markdown",
   "metadata": {},
   "source": [
    "The IS-LM model describes the relationship between the interest rate, $r$, and output, $Y$. It is made up of an investment-savings curve (IS), explaining the goods market, and liquidity-money curve (LM), explaining the money market. Together they make up the demand of the economy."
   ]
  },
  {
   "attachments": {},
   "cell_type": "markdown",
   "metadata": {},
   "source": [
    "The IS curve is explained by the functions:\n",
    "$$PE=C+I+G$$\n",
    "$$Y=PE$$\n",
    "$$C=a+b*(Y-T)$$\n",
    "$$I=c-d*r$$\n",
    "\n",
    "Where $C$ is Consumption, $I$ is investment, $G$ is government spending, $Y$ is GDP, $T$ is taxes, and $PE$ is planned expenditure known from the Keynesian cross. In case of equilibrium in the goods market we get $PE=Y$.\n",
    "\n",
    "$a, b, c, d$ are positive parameters with $b<1$."
   ]
  },
  {
   "attachments": {},
   "cell_type": "markdown",
   "metadata": {},
   "source": [
    "The LM curve is explained by:\n",
    "$$\\frac{M}P=L$$\n",
    "$$L=e*Y-f*r$$\n",
    "\n",
    "Where $\\frac{M}P$ is the real money supply, $L$ is the demand for money, and $r$ is the interest rate.\n",
    "\n",
    "$e, f$ are positive parameters."
   ]
  },
  {
   "cell_type": "code",
   "execution_count": 2,
   "metadata": {},
   "outputs": [],
   "source": [
    "# Define the variables\n",
    "PE,Y,C,I,G,a,b,T,c,d,r,M,P,L,e,f = sm.symbols(\"PE Y C I G a b T c d r M P L e f\")"
   ]
  },
  {
   "attachments": {},
   "cell_type": "markdown",
   "metadata": {},
   "source": [
    "# Analytical solution"
   ]
  },
  {
   "attachments": {},
   "cell_type": "markdown",
   "metadata": {},
   "source": [
    "I first display the functions using sympy:"
   ]
  },
  {
   "cell_type": "code",
   "execution_count": 3,
   "metadata": {},
   "outputs": [
    {
     "data": {
      "text/latex": [
       "$\\displaystyle PE = C + G + I$"
      ],
      "text/plain": [
       "Eq(PE, C + G + I)"
      ]
     },
     "metadata": {},
     "output_type": "display_data"
    },
    {
     "data": {
      "text/latex": [
       "$\\displaystyle Y = PE$"
      ],
      "text/plain": [
       "Eq(Y, PE)"
      ]
     },
     "metadata": {},
     "output_type": "display_data"
    },
    {
     "data": {
      "text/latex": [
       "$\\displaystyle C = a + b \\left(- T + Y\\right)$"
      ],
      "text/plain": [
       "Eq(C, a + b*(-T + Y))"
      ]
     },
     "metadata": {},
     "output_type": "display_data"
    },
    {
     "data": {
      "text/latex": [
       "$\\displaystyle I = c - d r$"
      ],
      "text/plain": [
       "Eq(I, c - d*r)"
      ]
     },
     "metadata": {},
     "output_type": "display_data"
    },
    {
     "data": {
      "text/latex": [
       "$\\displaystyle L = Y e - f r$"
      ],
      "text/plain": [
       "Eq(L, Y*e - f*r)"
      ]
     },
     "metadata": {},
     "output_type": "display_data"
    },
    {
     "data": {
      "text/latex": [
       "$\\displaystyle \\frac{M}{P} = L$"
      ],
      "text/plain": [
       "Eq(M/P, L)"
      ]
     },
     "metadata": {},
     "output_type": "display_data"
    }
   ],
   "source": [
    "# create functions for IS curve\n",
    "PlannedExpenditure = sm.Eq(PE,C+I+G)\n",
    "GDP = sm.Eq(Y,PE)\n",
    "Consumption = sm.Eq(C,a+b*(Y-T))\n",
    "Investment = sm.Eq(I,c-d*r)\n",
    "display(PlannedExpenditure)\n",
    "display(GDP)\n",
    "display(Consumption)\n",
    "display(Investment)\n",
    "\n",
    "# create functions for LM curve\n",
    "Moneysupply = sm.Eq(M/P,L)\n",
    "Moneydemand = sm.Eq(L,e*Y-f*r)\n",
    "display(Moneydemand)\n",
    "display(Moneysupply)"
   ]
  },
  {
   "attachments": {},
   "cell_type": "markdown",
   "metadata": {},
   "source": [
    "Solving for r in the IS and LM curves we get the relationship as:"
   ]
  },
  {
   "cell_type": "code",
   "execution_count": 4,
   "metadata": {},
   "outputs": [
    {
     "name": "stdout",
     "output_type": "stream",
     "text": [
      "IS:\n"
     ]
    },
    {
     "data": {
      "text/latex": [
       "$\\displaystyle r = \\frac{G - T b + Y b - Y + a + c}{d}$"
      ],
      "text/plain": [
       "Eq(r, (G - T*b + Y*b - Y + a + c)/d)"
      ]
     },
     "metadata": {},
     "output_type": "display_data"
    },
    {
     "name": "stdout",
     "output_type": "stream",
     "text": [
      "LM:\n"
     ]
    },
    {
     "data": {
      "text/latex": [
       "$\\displaystyle r = \\frac{- M + P Y e}{P f}$"
      ],
      "text/plain": [
       "Eq(r, (-M + P*Y*e)/(P*f))"
      ]
     },
     "metadata": {},
     "output_type": "display_data"
    }
   ],
   "source": [
    "# solves the IS function wrt. r\n",
    "sol_IS = sm.solve([PlannedExpenditure,GDP,Consumption,Investment],[r,I,C,PE])\n",
    "# solves the LM function wrt. r\n",
    "sol_LM = sm.solve([Moneysupply,Moneydemand],[r,L])\n",
    "\n",
    "# display IS and LM\n",
    "solved_IS = sm.Eq(sol_IS[r],r)\n",
    "print(\"IS:\")\n",
    "display(sm.simplify(solved_IS))\n",
    "sol_LM = sm.solve([Moneysupply,Moneydemand],[r,L])\n",
    "solved_LM = sm.Eq(sol_LM[r],r)\n",
    "print(\"LM:\")\n",
    "display(sm.simplify(solved_LM))"
   ]
  },
  {
   "attachments": {},
   "cell_type": "markdown",
   "metadata": {},
   "source": [
    "Combining the 2 will net us the aggregate demand for the economy in terms of output, $Y$."
   ]
  },
  {
   "cell_type": "code",
   "execution_count": 5,
   "metadata": {},
   "outputs": [
    {
     "name": "stdout",
     "output_type": "stream",
     "text": [
      "AD:\n",
      "Y =\n"
     ]
    },
    {
     "data": {
      "text/latex": [
       "$\\displaystyle \\frac{G P f + M d - P T b f + P a f + P c f}{P \\left(- b f + d e + f\\right)}$"
      ],
      "text/plain": [
       "(G*P*f + M*d - P*T*b*f + P*a*f + P*c*f)/(P*(-b*f + d*e + f))"
      ]
     },
     "metadata": {},
     "output_type": "display_data"
    }
   ],
   "source": [
    "# solves the IS and LM curves and isolates Y\n",
    "sol_AD = sm.solve([solved_IS,solved_LM],[Y,r])\n",
    "\n",
    "# display AD\n",
    "print(\"AD:\")\n",
    "print(\"Y =\")\n",
    "display(sm.simplify(sol_AD[Y]))"
   ]
  },
  {
   "cell_type": "code",
   "execution_count": 6,
   "metadata": {},
   "outputs": [
    {
     "name": "stdout",
     "output_type": "stream",
     "text": [
      "r = 0.167\n",
      "r = 0.167\n",
      "Y = 4033.333\n"
     ]
    }
   ],
   "source": [
    "# characterize the solution by lambdifying \n",
    "IS_lambdify = sm.lambdify(args=(Y,G,T,a,b,c,d),expr=sol_IS[r])\n",
    "LM_lambdify = sm.lambdify(args=(Y,M,P,e,f),expr=sol_LM[r])\n",
    "AD_lambdify = sm.lambdify(args=(G,T,M,P,a,b,c,d,e,f),expr=sol_AD[Y])\n",
    "\n",
    "# print the solution for given parameter values\n",
    "print(f'r = {IS_lambdify(AD_lambdify(200,300,1000,1,1000,0.75,50,100,0.25,50),200,300,1000,0.75,50,100):.3}')\n",
    "print(f'r = {LM_lambdify(AD_lambdify(200,300,1000,1,1000,0.75,50,100,0.25,50),1000,1,0.25,50):.3}')\n",
    "print(f'Y = {AD_lambdify(200,300,1000,1,1000,0.75,50,100,0.25,50):.7}')"
   ]
  },
  {
   "attachments": {},
   "cell_type": "markdown",
   "metadata": {},
   "source": [
    "Inserting parameter values to:\n",
    "\n",
    "$G=200, T=300, M=1000, P=1, a=1000, b=0.75, c=50, d=100, e=0.25, f=50$\n",
    "\n",
    "We get an equilibrium interest of 0.167 and a GDP of 4033.333."
   ]
  },
  {
   "attachments": {},
   "cell_type": "markdown",
   "metadata": {},
   "source": [
    "# Numerical solution"
   ]
  },
  {
   "attachments": {},
   "cell_type": "markdown",
   "metadata": {},
   "source": [
    "I now solve the problem numerically by setting up functions and using scipy.optimize"
   ]
  },
  {
   "cell_type": "code",
   "execution_count": 7,
   "metadata": {},
   "outputs": [
    {
     "name": "stdout",
     "output_type": "stream",
     "text": [
      "r = [0.16666667]\n",
      "r = [0.16666667]\n",
      "Y = 4033.3333333333335\n"
     ]
    }
   ],
   "source": [
    "# IS functions\n",
    "def IS_num(r,Y=1000,G=200,T=300,a=1000,b=0.75,c=50,d=100):\n",
    "    PE = Y\n",
    "    C = a+b*(Y-T)\n",
    "    I = c-d*r\n",
    "    eqIS = PE - (C + I + G)\n",
    "    return eqIS\n",
    "\n",
    "# LM functions\n",
    "def LM_num(r,Y=1000,M=1000,P=1,e=0.25,f=50):\n",
    "    L = e*Y - f*r\n",
    "    eqLM = M/P - L\n",
    "    return eqLM\n",
    "\n",
    "# initial guess for interest rate and GDP\n",
    "r_guess = 1\n",
    "Y_guess = 1000\n",
    "\n",
    "# use fsolve to find the value of r given the other parameter values\n",
    "def r_IS_num(Y=1000,G=200,T=300,a=1000,b=0.75,c=50,d=100):\n",
    "    return optimize.fsolve(IS_num, r_guess, args=(Y,G,T,a,b,c,d))\n",
    "\n",
    "def r_LM_num(Y=1000,M=1000,P=1,e=0.25,f=50):\n",
    "    return optimize.fsolve(LM_num, r_guess, args=(Y,M,P,e,f))\n",
    "\n",
    "# find the AD values by optimizing such that IS=LM <=> IS-LM=0\n",
    "def AD_num(G=200, T=300, M=1000, P=1, a=1000, b=0.75, c=50, d=100, e=0.25, f=50):\n",
    "    return optimize.fsolve(lambda Y: r_IS_num(Y,G,T,a,b,c,d) - r_LM_num(Y,M,P,e,f), Y_guess)[0]\n",
    "\n",
    "print(f'r = {r_IS_num(AD_num())}')\n",
    "print(f'r = {r_LM_num(AD_num())}')\n",
    "print(f'Y = {AD_num()}')"
   ]
  },
  {
   "attachments": {},
   "cell_type": "markdown",
   "metadata": {},
   "source": [
    "We see that the numerical solution is the same as was the case by solving it analytically.\n",
    "\n",
    "We can now examine the impact of fiscal- and monetary policy on the demand side of the economy:"
   ]
  },
  {
   "cell_type": "code",
   "execution_count": 8,
   "metadata": {},
   "outputs": [
    {
     "name": "stdout",
     "output_type": "stream",
     "text": [
      "Government spending:\n",
      "G =    0, Y = 3766.67\n",
      "G =  200, Y = 4033.33\n",
      "G =  400, Y = 4300.0\n",
      "Lump sum tax:\n",
      "T =    0, Y = 4333.33\n",
      "T =  200, Y = 4133.33\n",
      "T =  400, Y = 3933.33\n",
      "Money supply:\n",
      "M = 2000, Y = 6700.0\n",
      "M = 4000, Y = 12033.3\n",
      "M = 6000, Y = 17366.7\n"
     ]
    }
   ],
   "source": [
    "# sets up ranges\n",
    "Spending = range(0,600,200)\n",
    "Tax = range(0,600,200)\n",
    "Money = range(2000,8000,2000)\n",
    "\n",
    "print(\"Government spending:\")\n",
    "for G in Spending:\n",
    "    print(f'G = {G:4}, Y = {AD_num(G=G):.6}')\n",
    "\n",
    "print(\"Lump sum tax:\")\n",
    "for T in Tax:\n",
    "    print(f'T = {T:4}, Y = {AD_num(T=T):.6}')\n",
    "\n",
    "print(\"Money supply:\")\n",
    "for M in Money:\n",
    "    print(f'M = {M:4}, Y = {AD_num(M=M):.6}')"
   ]
  },
  {
   "attachments": {},
   "cell_type": "markdown",
   "metadata": {},
   "source": [
    "As expected, government spending as well as increasing money supply increases demand, while increasing taxes lowers demand."
   ]
  },
  {
   "attachments": {},
   "cell_type": "markdown",
   "metadata": {},
   "source": [
    "Using the numerical functions, we now set up graphs:"
   ]
  },
  {
   "cell_type": "code",
   "execution_count": 9,
   "metadata": {},
   "outputs": [
    {
     "data": {
      "image/png": "[encoded data removed]",
      "text/plain": [
       "<Figure size 640x480 with 1 Axes>"
      ]
     },
     "metadata": {},
     "output_type": "display_data"
    },
    {
     "data": {
      "image/png": "[encoded data removed]",
      "text/plain": [
       "<Figure size 640x480 with 1 Axes>"
      ]
     },
     "metadata": {},
     "output_type": "display_data"
    }
   ],
   "source": [
    "# create empty lists to store values for graph\n",
    "IS_graph_num = []\n",
    "LM_graph_num = []\n",
    "AD_graph_num = []\n",
    "\n",
    "# Y values evaluated for IS-LM graph\n",
    "Y_vec = np.array(range(0,8000,100))\n",
    "# P values evaluated for AD graph\n",
    "P_vec = np.array(range(1,15,1))\n",
    "\n",
    "for o in Y_vec:\n",
    "    r = r_IS_num(Y=o)\n",
    "    IS_graph_num.append(r)\n",
    "\n",
    "for o in Y_vec:\n",
    "    r = r_LM_num(Y=o)\n",
    "    LM_graph_num.append(r)\n",
    "\n",
    "for o in P_vec:\n",
    "    Y = AD_num(P=o)\n",
    "    AD_graph_num.append(Y)\n",
    "\n",
    "# create graph for IS-LM\n",
    "plt.figure()\n",
    "plt.title(\"IS-LM\")\n",
    "plt.ylabel(\"$r$\")\n",
    "plt.xlabel(\"$Y$\")\n",
    "plt.plot(Y_vec,IS_graph_num, label=\"IS\", color='blue')\n",
    "plt.plot(Y_vec,LM_graph_num, label=\"LM\", color='orange')\n",
    "plt.legend()\n",
    "\n",
    "# create graph for AD\n",
    "plt.figure()\n",
    "plt.title(\"AD\")\n",
    "plt.ylabel(\"$P$\")\n",
    "plt.xlabel(\"$Y$\")\n",
    "plt.plot(AD_graph_num, P_vec, label=\"AD\", color='red')\n",
    "plt.show()"
   ]
  },
  {
   "attachments": {},
   "cell_type": "markdown",
   "metadata": {},
   "source": [
    "We observe a downward sloping IS curve and upward sloping LM curve. For the AD curve we see that it is concave with the demand falling as prices increase. All of which is functioning as expected."
   ]
  },
  {
   "attachments": {},
   "cell_type": "markdown",
   "metadata": {},
   "source": [
    "# Model extension: proportional tax rate"
   ]
  },
  {
   "attachments": {},
   "cell_type": "markdown",
   "metadata": {},
   "source": [
    "I now examine the IS-LM model with a proportional tax as opposed to lump sum, which changes the consumption function to: $$C=a+b*(Y-t*Y)$$ with $t$ denoting the tax in percentage of income $Y$."
   ]
  },
  {
   "cell_type": "code",
   "execution_count": 10,
   "metadata": {},
   "outputs": [
    {
     "name": "stdout",
     "output_type": "stream",
     "text": [
      "r = [0.15503876]\n",
      "r = [0.15503876]\n",
      "Y = 4031.007751937984\n"
     ]
    }
   ],
   "source": [
    "# new IS side\n",
    "def t_IS_num(r,Y=1000,G=200,t=0.075,a=1000,b=0.75,c=50,d=100):\n",
    "    PE = Y\n",
    "    C = a+b*(Y-t*Y)\n",
    "    I = c-d*r\n",
    "    eqIS = PE - (C + I + G)\n",
    "    return eqIS\n",
    "\n",
    "# use fsolve to find the value of r given the other parameter values\n",
    "def t_r_IS_num(Y=1000,G=200,t=0.075,a=1000,b=0.75,c=50,d=100):\n",
    "    return optimize.fsolve(t_IS_num, r_guess, args=(Y,G,t,a,b,c,d))\n",
    "\n",
    "# find the AD values by looping through Y values until IS=LM\n",
    "def t_AD_num(G=200, t=0.075, M=1000, P=1, a=1000, b=0.75, c=50, d=100, e=0.25, f=50):\n",
    "    return optimize.fsolve(lambda Y: t_r_IS_num(Y,G,t,a,b,c,d) - r_LM_num(Y,M,P,e,f), Y_guess)[0]\n",
    "\n",
    "print(f'r = {t_r_IS_num(t_AD_num())}')\n",
    "print(f'r = {r_LM_num(t_AD_num())}')\n",
    "print(f'Y = {t_AD_num()}')"
   ]
  },
  {
   "attachments": {},
   "cell_type": "markdown",
   "metadata": {},
   "source": [
    "By incorporating a proportional tax of 7.5%, you see that the equilibrium interest and GDP are roughly the same.\n",
    "\n",
    "Adding the proportional tax to the graphs for IS-LM and AD gives us:"
   ]
  },
  {
   "cell_type": "code",
   "execution_count": 11,
   "metadata": {},
   "outputs": [
    {
     "data": {
      "image/png": "[encoded data removed]",
      "text/plain": [
       "<Figure size 640x480 with 1 Axes>"
      ]
     },
     "metadata": {},
     "output_type": "display_data"
    },
    {
     "data": {
      "image/png": "[encoded data removed]",
      "text/plain": [
       "<Figure size 640x480 with 1 Axes>"
      ]
     },
     "metadata": {},
     "output_type": "display_data"
    }
   ],
   "source": [
    "t_IS_graph_num = []\n",
    "t_AD_graph_num = []\n",
    "\n",
    "for o in Y_vec:\n",
    "    r = t_r_IS_num(Y=o)\n",
    "    t_IS_graph_num.append(r)\n",
    "\n",
    "for o in P_vec:\n",
    "    Y = t_AD_num(P=o)\n",
    "    t_AD_graph_num.append(Y)\n",
    "\n",
    "# create graph for IS-LM\n",
    "plt.figure()\n",
    "plt.title(\"IS-LM (proportional vs. lump sum tax)\")\n",
    "plt.ylabel(\"$r$\")\n",
    "plt.xlabel(\"$Y$\")\n",
    "plt.plot(Y_vec,t_IS_graph_num, label=\"IS (proportional)\", color='blue')\n",
    "plt.plot(Y_vec,LM_graph_num, label=\"LM\", color='orange')\n",
    "plt.plot(Y_vec,IS_graph_num, label=\"IS (lump sum)\", color='teal')\n",
    "plt.legend()\n",
    "\n",
    "# create graph for AD\n",
    "plt.figure()\n",
    "plt.title(\"AD (proportional vs. lump sum tax)\")\n",
    "plt.ylabel(\"$P$\")\n",
    "plt.xlabel(\"$Y$\")\n",
    "plt.plot(t_AD_graph_num, P_vec, label=\"Proportional\", color='red')\n",
    "plt.plot(AD_graph_num,P_vec, label=\"Lump sum\", color=\"blue\")\n",
    "plt.legend()\n",
    "plt.show()"
   ]
  },
  {
   "cell_type": "code",
   "execution_count": 12,
   "metadata": {},
   "outputs": [
    {
     "name": "stdout",
     "output_type": "stream",
     "text": [
      "Fluctuations in Y depending on P for lump sum and proportional tax:\n",
      "P = 0.1, Y(lump sum) = 28033.3, Y(proportional) = 26356.6, Y-ratio = 1.06\n",
      "P =   1, Y(lump sum) = 4033.33, Y(proportional) = 4031.01, Y-ratio = 1.0\n",
      "P =  10, Y(lump sum) = 1633.33, Y(proportional) = 1798.45, Y-ratio = 0.908\n"
     ]
    }
   ],
   "source": [
    "# create a loop that shows the relative difference in GDP for lump sum tax and proportional tax with changes to P\n",
    "print(\"Fluctuations in Y depending on P for lump sum and proportional tax:\")\n",
    "for P in [0.1,1,10]:\n",
    "    print(f'P = {P:3}, Y(lump sum) = {AD_num(P=P):.6}, Y(proportional) = {t_AD_num(P=P):.6}, Y-ratio = {AD_num(P=P)/t_AD_num(P=P):.3}')"
   ]
  },
  {
   "attachments": {},
   "cell_type": "markdown",
   "metadata": {},
   "source": [
    "From the graphs we can observe, that the IS curve with proportional tax is steeper, which also impacts the AD curve, such that the GDP doesn't decrease as much with an increase in the prices, compared to the case with lump sum tax, while it also won't increase as much when lowering the prices.\n",
    "\n",
    "Setting $P=0.1$ we see a 6% higher GDP for the lump sum tax while it is 9,2% lower when $P=10$. Proportional tax therefore functions as an automatic stabilizer for the economy. So in instances where the economy is in a boom the GDP will be relatively lower, while it in recession, will be relatively higher than the lump sum variant.\n",
    "\n",
    "The proportional tax thus helps prevent big fluctuations in the economy, so the government won't have to actively use fiscal- and monetary policies to the same degree to combat them."
   ]
  },
  {
   "attachments": {},
   "cell_type": "markdown",
   "metadata": {},
   "source": [
    "# Conclusion"
   ]
  },
  {
   "attachments": {},
   "cell_type": "markdown",
   "metadata": {},
   "source": [
    "As expected, I find a negative sloping IS curve and an positive sloping LM curve, as well as the aggregate demand decreasing as prices increase.\n",
    "\n",
    "It is clear, that the government can use fiscal and monetary policies to change the demand of the economy, where an increase in $G$ or $M$ increases demand and $T$ lowers it.\n",
    "\n",
    "By using a proportional tax as opposed to a lump sum, the economy automatically adjusts output to a certain extend, which helps stabilize the economy.\n",
    "\n"
   ]
  }
 ],
 "metadata": {
  "kernelspec": {
   "display_name": "base",
   "language": "python",
   "name": "python3"
  },
  "language_info": {
   "codemirror_mode": {
    "name": "ipython",
    "version": 3
   },
   "file_extension": ".py",
   "mimetype": "text/x-python",
   "name": "python",
   "nbconvert_exporter": "python",
   "pygments_lexer": "ipython3",
   "version": "3.9.16"
  },
  "orig_nbformat": 4
 },
 "nbformat": 4,
 "nbformat_minor": 2
}
