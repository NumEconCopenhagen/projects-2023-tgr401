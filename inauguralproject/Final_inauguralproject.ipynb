{
 "cells": [
  {
   "attachments": {},
   "cell_type": "markdown",
   "metadata": {},
   "source": [
    "# Inargual project - Time use of couples"
   ]
  },
  {
   "attachments": {},
   "cell_type": "markdown",
   "metadata": {},
   "source": [
    "Import of modules and classes:"
   ]
  },
  {
   "cell_type": "code",
   "execution_count": 1,
   "metadata": {},
   "outputs": [],
   "source": [
    "from types import SimpleNamespace\n",
    "\n",
    "import numpy as np\n",
    "from scipy import optimize\n",
    "\n",
    "import pandas as pd \n",
    "import matplotlib.pyplot as plt\n",
    "\n",
    "#autoreload modules\n",
    "%load_ext autoreload\n",
    "%autoreload 2\n",
    "\n",
    "#import py-file for project\n",
    "import Final_inauguralproject as model\n",
    "#save the class as hoc\n",
    "hoc = model.HouseholdOptimizationClass()\n"
   ]
  },
  {
   "attachments": {},
   "cell_type": "markdown",
   "metadata": {},
   "source": [
    "**Question 1**"
   ]
  },
  {
   "attachments": {},
   "cell_type": "markdown",
   "metadata": {},
   "source": [
    "To illustrate how $\\frac{H_F}{H_M}$ changes when varying $\\alpha$ and $\\sigma$, we set up a for loop that goes through each set of the parameter values."
   ]
  },
  {
   "cell_type": "code",
   "execution_count": 2,
   "metadata": {},
   "outputs": [
    {
     "name": "stdout",
     "output_type": "stream",
     "text": [
      "H_F = 2.0, H_M = 6.5, HF/HM = 0.308, alpha = 0.25, sigma=1.0\n",
      "H_F = 4.5, H_M = 4.5, HF/HM =   1.0, alpha =  0.5, sigma=1.0\n",
      "H_F = 6.5, H_M = 2.0, HF/HM =  3.25, alpha = 0.75, sigma=1.0\n"
     ]
    },
    {
     "name": "stderr",
     "output_type": "stream",
     "text": [
      "c:\\Users\\frede\\OneDrive\\Dokumenter\\6. Semester Økonomi\\Programmering\\Ting\\projects-2023-tgr401\\projects-2023-tgr401\\inauguralproject\\Final_inauguralproject.py:66: RuntimeWarning: divide by zero encountered in reciprocal\n",
      "  H = ((1-par.alpha)*H_M**((par.sigma-1)/par.sigma)+par.alpha*H_F**((par.sigma-1)/par.sigma))**(par.sigma/(par.sigma-1))\n"
     ]
    },
    {
     "name": "stdout",
     "output_type": "stream",
     "text": [
      "HF = 4.5, HM = 4.5, HF/HM =   1.0, alpha= 0.5, sigma=0.5\n",
      "HF = 4.5, HM = 4.5, HF/HM =   1.0, alpha= 0.5, sigma=1.0\n",
      "HF = 4.5, HM = 4.5, HF/HM =   1.0, alpha= 0.5, sigma=1.5\n"
     ]
    }
   ],
   "source": [
    "#how HM/HF reacts to a change in alpha\n",
    "for alpha in [0.25,0.5,0.75]:\n",
    "    hoc.par.alpha=alpha\n",
    "    solve=hoc.solve_discrete()\n",
    "    print(f'H_F = {solve.H_F}, H_M = {solve.H_M}, HF/HM = {solve.H_F/solve.H_M:5.3}, alpha = {alpha:4}, sigma={hoc.par.sigma}')\n",
    "#reset alpha\n",
    "hoc.par.alpha=0.5\n",
    "\n",
    "#how HM/HF reacts to a change in sigma\n",
    "for sigma in [0.5,1.0,1.5]:\n",
    "    hoc.par.sigma=sigma\n",
    "    solve=hoc.solve_discrete()\n",
    "    print(f'HF = {solve.H_F}, HM = {solve.H_M}, HF/HM = {solve.H_F/solve.H_M:5.3}, alpha={hoc.par.alpha:4}, sigma={sigma}')\n",
    "#reset sigma\n",
    "hoc.par.sigma=1"
   ]
  },
  {
   "attachments": {},
   "cell_type": "markdown",
   "metadata": {},
   "source": [
    "From this we see, that as $\\alpha$ increases, the hours working at home ratio between women and men also increases, and as such skews towards women working more at home.\n",
    "\n",
    "For $\\sigma$ we see no changes to the exchange rate between work at home for men and women, holding $\\alpha$ to 0.5."
   ]
  },
  {
   "attachments": {},
   "cell_type": "markdown",
   "metadata": {},
   "source": [
    "**Question 2**"
   ]
  },
  {
   "attachments": {},
   "cell_type": "markdown",
   "metadata": {},
   "source": [
    "To plot $log(\\frac{H_F}{H_M})$ and $log(\\frac{w_F}{w_M})$ we first run a loop for $w_F$ and then create a plot using matplot.lib."
   ]
  },
  {
   "cell_type": "code",
   "execution_count": 3,
   "metadata": {},
   "outputs": [
    {
     "name": "stdout",
     "output_type": "stream",
     "text": [
      "H_F = 5.0, H_M = 4.0, w_F = 0.8, log(HF/HM) =  0.223, log(w_F/w_M)=-0.223\n",
      "H_F = 4.5, H_M = 4.5, w_F = 0.9, log(HF/HM) =    0.0, log(w_F/w_M)=-0.105\n",
      "H_F = 4.5, H_M = 4.5, w_F = 1.0, log(HF/HM) =    0.0, log(w_F/w_M)=   0.0\n",
      "H_F = 4.0, H_M = 4.5, w_F = 1.1, log(HF/HM) = -0.118, log(w_F/w_M)=0.0953\n",
      "H_F = 4.0, H_M = 5.0, w_F = 1.2, log(HF/HM) = -0.223, log(w_F/w_M)= 0.182\n"
     ]
    },
    {
     "data": {
      "text/plain": [
       "Text(0, 0.5, 'log(H_F/H_M)')"
      ]
     },
     "execution_count": 3,
     "metadata": {},
     "output_type": "execute_result"
    },
    {
     "data": {
      "image/png": "[encoded data removed]",
      "text/plain": [
       "<Figure size 640x480 with 1 Axes>"
      ]
     },
     "metadata": {},
     "output_type": "display_data"
    }
   ],
   "source": [
    "for w_F in hoc.par.w_F_vec:\n",
    "    hoc.par.w_F=w_F\n",
    "    solve=hoc.solve_discrete()\n",
    "    print(f'H_F = {solve.H_F}, H_M = {solve.H_M}, w_F = {w_F}, log(HF/HM) = {np.log(solve.H_F/solve.H_M):6.3}, log(w_F/w_M)={np.log(w_F/hoc.par.w_M):6.3}')\n",
    "#reset w_F\n",
    "hoc.par.w_F=1\n",
    "  \n",
    "#create log(HF/HM) and log(WF/WM)\n",
    "log_w_F_w_M=np.log(hoc.par.w_F_vec)\n",
    "disc_log_H_F_H_M=[0.223,0.0,0.0,-0.118,-0.223]\n",
    "\n",
    "# a. create the figure\n",
    "discfig = plt.figure()\n",
    "\n",
    "# b. plot\n",
    "discax = discfig.add_subplot(1,1,1)\n",
    "\n",
    "discax.plot(log_w_F_w_M,disc_log_H_F_H_M)\n",
    "\n",
    "discax.set_title('Impact of a change in w_F, discrete choice set')\n",
    "discax.set_xlabel('log(w_F/w_M)')\n",
    "discax.set_ylabel('log(H_F/H_M)')"
   ]
  },
  {
   "attachments": {},
   "cell_type": "markdown",
   "metadata": {},
   "source": [
    "From this we see, that as women's wages increase, they begin working less at home in comparison to men. This should be expected, as the opportunity cost to work at home for women relative to men increases and as such makes it more viable for women to work in the labor market while men work at home."
   ]
  },
  {
   "attachments": {},
   "cell_type": "markdown",
   "metadata": {},
   "source": [
    "**Question 3**"
   ]
  },
  {
   "attachments": {},
   "cell_type": "markdown",
   "metadata": {},
   "source": [
    "We do the same as in question 2 but this time for continued time."
   ]
  },
  {
   "cell_type": "code",
   "execution_count": 4,
   "metadata": {},
   "outputs": [
    {
     "name": "stdout",
     "output_type": "stream",
     "text": [
      "H_F = 5.116, H_M = 4.0926, w_F = 0.8, log(HF/HM) =  0.223, log(w_F/w_M)=-0.223\n",
      "H_F = 4.745, H_M = 4.2709, w_F = 0.9, log(HF/HM) =  0.105, log(w_F/w_M)=-0.105\n",
      "H_F = 4.454, H_M = 4.4543, w_F = 1.0, log(HF/HM) =    0.0, log(w_F/w_M)=   0.0\n",
      "H_F = 4.218, H_M = 4.6412, w_F = 1.1, log(HF/HM) = -0.0955, log(w_F/w_M)=0.0953\n",
      "H_F = 4.027, H_M = 4.8323, w_F = 1.2, log(HF/HM) = -0.182, log(w_F/w_M)= 0.182\n"
     ]
    },
    {
     "data": {
      "text/plain": [
       "Text(0, 0.5, 'log(H_F/H_M)')"
      ]
     },
     "execution_count": 4,
     "metadata": {},
     "output_type": "execute_result"
    },
    {
     "data": {
      "image/png": "[encoded data removed]",
      "text/plain": [
       "<Figure size 640x480 with 1 Axes>"
      ]
     },
     "metadata": {},
     "output_type": "display_data"
    }
   ],
   "source": [
    "#We set the inital guess to 4.5 for H and L variables, as this was the answer in discrete time\n",
    "for w_F in hoc.par.w_F_vec:\n",
    "    hoc.par.w_F=w_F\n",
    "    solve=hoc.solve_continued()\n",
    "    print(f'H_F = {solve.H_F:.4}, H_M = {solve.H_M:6.5}, w_F = {w_F}, log(HF/HM) = {np.log(solve.H_F/solve.H_M):6.3}, log(w_F/w_M)={np.log(w_F/hoc.par.w_M):6.3}')\n",
    "#reset w_F\n",
    "hoc.par.w_F=1\n",
    "\n",
    "#create the vectors to plot in the graph\n",
    "hoc.solve_w_F_vec()\n",
    "log_w_F_w_M=np.log(hoc.par.w_F_vec)\n",
    "cont_log_H_F_H_M=np.log(hoc.sol.H_F_vec/hoc.sol.H_M_vec)\n",
    "\n",
    "#create the plot\n",
    "# a. create the figure\n",
    "contfig = plt.figure()\n",
    "\n",
    "# b. plot\n",
    "contax = contfig.add_subplot(1,1,1)\n",
    "\n",
    "contax.plot(log_w_F_w_M,cont_log_H_F_H_M)\n",
    "\n",
    "contax.set_title('Impact of a change in w_F, continued choice set')\n",
    "contax.set_xlabel('log(w_F/w_M)')\n",
    "contax.set_ylabel('log(H_F/H_M)')"
   ]
  },
  {
   "attachments": {},
   "cell_type": "markdown",
   "metadata": {},
   "source": [
    "We genereally see the same effect for a continuous choice set, though the slope in this case is completely linear which should be expected in a continous set."
   ]
  },
  {
   "attachments": {},
   "cell_type": "markdown",
   "metadata": {},
   "source": [
    "**Question 4**"
   ]
  },
  {
   "attachments": {},
   "cell_type": "markdown",
   "metadata": {},
   "source": [
    "We find the optimal values for $\\alpha$ ∈ [0,1] and $\\sigma$ ∈ [0,1.5], with the initial guess being the standard values for the model"
   ]
  },
  {
   "cell_type": "code",
   "execution_count": 5,
   "metadata": {},
   "outputs": [
    {
     "name": "stderr",
     "output_type": "stream",
     "text": [
      "c:\\Users\\frede\\OneDrive\\Dokumenter\\6. Semester Økonomi\\Programmering\\Ting\\projects-2023-tgr401\\projects-2023-tgr401\\inauguralproject\\Final_inauguralproject.py:66: RuntimeWarning: divide by zero encountered in double_scalars\n",
      "  H = ((1-par.alpha)*H_M**((par.sigma-1)/par.sigma)+par.alpha*H_F**((par.sigma-1)/par.sigma))**(par.sigma/(par.sigma-1))\n",
      "c:\\Users\\frede\\OneDrive\\Dokumenter\\6. Semester Økonomi\\Programmering\\Ting\\projects-2023-tgr401\\projects-2023-tgr401\\inauguralproject\\Final_inauguralproject.py:66: RuntimeWarning: invalid value encountered in double_scalars\n",
      "  H = ((1-par.alpha)*H_M**((par.sigma-1)/par.sigma)+par.alpha*H_F**((par.sigma-1)/par.sigma))**(par.sigma/(par.sigma-1))\n"
     ]
    },
    {
     "name": "stdout",
     "output_type": "stream",
     "text": [
      " beta differences: 1.51e-09\n",
      " alpha: 0.982, sigma: 0.0997, beta0: 0.4, beta1: -0.1\n"
     ]
    },
    {
     "data": {
      "text/plain": [
       "(0.9822570445230676, 0.09966792016348056)"
      ]
     },
     "execution_count": 5,
     "metadata": {},
     "output_type": "execute_result"
    }
   ],
   "source": [
    "hoc.estimate()\n"
   ]
  },
  {
   "attachments": {},
   "cell_type": "markdown",
   "metadata": {},
   "source": [
    "From the results we find that a high $\\alpha$ value of 0.98 is optimal while $\\sigma$ has a low value of 0.1 relative to the standard value set.\n",
    "\n",
    "Interpreting these results, the high $\\alpha$ value suggests that it is more efficient that women are more productive in the home. An $\\alpha$ that high leads women to be 55x more productive than men.\n",
    "\n",
    "The $\\sigma$ of 0.1 suggests that there is a low degree of substitutability in home production, which means that despite the productivity difference, it is still more efficient for both parties to participate in home production, as the type of home production they do is not easily transferable.\n",
    "\n",
    "Overall, the results from this model suggests that though women are more productive, the home production should still me split relatively evenly."
   ]
  },
  {
   "attachments": {},
   "cell_type": "markdown",
   "metadata": {},
   "source": [
    "**Question 5**"
   ]
  },
  {
   "attachments": {},
   "cell_type": "markdown",
   "metadata": {},
   "source": [
    "With a fixed alpha of 0.5, we see that the model no longer matches the data so well:"
   ]
  },
  {
   "cell_type": "code",
   "execution_count": 6,
   "metadata": {},
   "outputs": [
    {
     "name": "stdout",
     "output_type": "stream",
     "text": [
      " beta differences: 0.17\n",
      " alpha: 0.5, sigma: [0.], beta0: 0.0, beta1: 0.0\n"
     ]
    },
    {
     "data": {
      "text/plain": [
       "array([0.])"
      ]
     },
     "execution_count": 6,
     "metadata": {},
     "output_type": "execute_result"
    }
   ],
   "source": [
    "#Create a new class for the model but with a fixed alpha\n",
    "FixA = model.OGModelFixedAlpha()\n",
    "FixA.par.alpha=0.5\n",
    "FixA.solve_continued()\n",
    "FixA.solve_w_F_vec()\n",
    "FixA.regression()\n",
    "FixA.estimate()"
   ]
  },
  {
   "attachments": {},
   "cell_type": "markdown",
   "metadata": {},
   "source": [
    "We therefore implement a new change to the model. Instead of women being more productive than men, we instead assume, that men get a higher disutility from work in the home. Since women were 55x more productive in the original model, we use a factor 55 in the disutility for men to get the expression: $$55*\\nu*\\frac{H_M^{1+\\frac{1}{\\epsilon}}}{1+\\frac{1}{\\epsilon}}$$"
   ]
  },
  {
   "cell_type": "code",
   "execution_count": 7,
   "metadata": {},
   "outputs": [
    {
     "name": "stderr",
     "output_type": "stream",
     "text": [
      "c:\\Users\\frede\\OneDrive\\Dokumenter\\6. Semester Økonomi\\Programmering\\Ting\\projects-2023-tgr401\\projects-2023-tgr401\\inauguralproject\\Final_inauguralproject.py:274: RuntimeWarning: divide by zero encountered in power\n",
      "  H = ((1-par.alpha)*H_M**((par.sigma-1)/par.sigma)+par.alpha*H_F**((par.sigma-1)/par.sigma))**(par.sigma/(par.sigma-1))\n"
     ]
    },
    {
     "name": "stdout",
     "output_type": "stream",
     "text": [
      " beta differences: 3.79e-06\n",
      " alpha: 0.5, sigma: [0.17861328], beta0: 0.399, beta1: -0.102\n"
     ]
    },
    {
     "data": {
      "text/plain": [
       "array([0.17861328])"
      ]
     },
     "execution_count": 7,
     "metadata": {},
     "output_type": "execute_result"
    }
   ],
   "source": [
    "#create the new model class with the disutility for men and the fixed alpha\n",
    "hoc5 = model.Modelchange()\n",
    "hoc5.par.alpha=0.5\n",
    "hoc5.solve_continued()\n",
    "hoc5.solve_w_F_vec()\n",
    "hoc5.regression()\n",
    "hoc5.estimate()"
   ]
  },
  {
   "attachments": {},
   "cell_type": "markdown",
   "metadata": {},
   "source": [
    "We see from the results, that they match the empirical data quite well with a $\\beta_0$ of 0.399 and a $\\beta_1$ of -0.102, which are both almost identical to the results from the original model.\n",
    "\n",
    "With the $\\alpha$ fixed at 0.5, we instead get an 80% increase in $\\sigma$ from 0.0997 to 0.1786, which suggests that women now do more of the work at home."
   ]
  }
 ],
 "metadata": {
  "kernelspec": {
   "display_name": "base",
   "language": "python",
   "name": "python3"
  },
  "language_info": {
   "codemirror_mode": {
    "name": "ipython",
    "version": 3
   },
   "file_extension": ".py",
   "mimetype": "text/x-python",
   "name": "python",
   "nbconvert_exporter": "python",
   "pygments_lexer": "ipython3",
   "version": "3.9.16"
  },
  "orig_nbformat": 4
 },
 "nbformat": 4,
 "nbformat_minor": 2
}
