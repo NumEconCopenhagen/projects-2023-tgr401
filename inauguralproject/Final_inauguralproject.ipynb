{
 "cells": [
  {
   "attachments": {},
   "cell_type": "markdown",
   "metadata": {},
   "source": [
    "# Inargual project - Time use of couples"
   ]
  },
  {
   "attachments": {},
   "cell_type": "markdown",
   "metadata": {},
   "source": [
    "Import of modules and classes:"
   ]
  },
  {
   "cell_type": "code",
   "execution_count": 2,
   "metadata": {},
   "outputs": [],
   "source": [
    "from types import SimpleNamespace\n",
    "\n",
    "import numpy as np\n",
    "from scipy import optimize\n",
    "\n",
    "import pandas as pd \n",
    "import matplotlib.pyplot as plt\n",
    "\n",
    "#autoreload modules\n",
    "%load_ext autoreload\n",
    "%autoreload 2\n",
    "\n",
    "#import py-file for project\n",
    "import Final_inauguralproject as model\n",
    "hoc = model.HouseholdOptimizationClass()\n"
   ]
  },
  {
   "attachments": {},
   "cell_type": "markdown",
   "metadata": {},
   "source": [
    "**Question 1**"
   ]
  },
  {
   "attachments": {},
   "cell_type": "markdown",
   "metadata": {},
   "source": [
    "To illustrate how $H_F/H_M$ changes when varying $\\alpha$ and $\\sigma$, we set up a for loop that goes through each of the parameter values."
   ]
  },
  {
   "cell_type": "code",
   "execution_count": 3,
   "metadata": {},
   "outputs": [
    {
     "name": "stdout",
     "output_type": "stream",
     "text": [
      "H_F = 2.0, H_F = 6.5, HF/HM = 0.308, alpha = 0.25, sigma=1.0\n",
      "H_F = 4.5, H_F = 4.5, HF/HM =   1.0, alpha =  0.5, sigma=1.0\n",
      "H_F = 6.5, H_F = 2.0, HF/HM =  3.25, alpha = 0.75, sigma=1.0\n"
     ]
    },
    {
     "name": "stderr",
     "output_type": "stream",
     "text": [
      "c:\\Users\\frede\\OneDrive\\Dokumenter\\6. Semester Økonomi\\Programmering\\Ting\\projects-2023-tgr401\\projects-2023-tgr401\\inauguralproject\\Final_inauguralproject.py:64: RuntimeWarning: divide by zero encountered in reciprocal\n",
      "  H = (1-par.alpha)*H_M**((par.sigma-1)/par.sigma)+par.alpha*H_F**(par.sigma/(par.sigma-1))\n",
      "c:\\Users\\frede\\OneDrive\\Dokumenter\\6. Semester Økonomi\\Programmering\\Ting\\projects-2023-tgr401\\projects-2023-tgr401\\inauguralproject\\Final_inauguralproject.py:67: RuntimeWarning: invalid value encountered in multiply\n",
      "  Q = C**par.omega*H**(1-par.omega)\n",
      "C:\\Users\\frede\\AppData\\Local\\Temp\\ipykernel_10696\\1198711314.py:12: RuntimeWarning: invalid value encountered in double_scalars\n",
      "  print(f'HF = {solve.H_F}, HM = {solve.H_M}, HF/HM = {solve.H_F/solve.H_M:5.3}, alpha={hoc.par.alpha:4}, sigma={sigma}')\n"
     ]
    },
    {
     "name": "stdout",
     "output_type": "stream",
     "text": [
      "HF = 0.0, HM = 0.0, HF/HM =   nan, alpha= 0.5, sigma=0.5\n",
      "HF = 4.5, HM = 4.5, HF/HM =   1.0, alpha= 0.5, sigma=1.0\n",
      "HF = 7.5, HM = 0.0, HF/HM =   inf, alpha= 0.5, sigma=1.5\n"
     ]
    },
    {
     "name": "stderr",
     "output_type": "stream",
     "text": [
      "C:\\Users\\frede\\AppData\\Local\\Temp\\ipykernel_10696\\1198711314.py:12: RuntimeWarning: divide by zero encountered in double_scalars\n",
      "  print(f'HF = {solve.H_F}, HM = {solve.H_M}, HF/HM = {solve.H_F/solve.H_M:5.3}, alpha={hoc.par.alpha:4}, sigma={sigma}')\n"
     ]
    }
   ],
   "source": [
    "#hvad sker der med HM/HF forholdet ved ændring i alpha\n",
    "for alpha in [0.25,0.5,0.75]:\n",
    "    hoc.par.alpha=alpha\n",
    "    solve=hoc.solve_discrete()\n",
    "    print(f'H_F = {solve.H_F}, H_F = {solve.H_M}, HF/HM = {solve.H_F/solve.H_M:5.3}, alpha = {alpha:4}, sigma={hoc.par.sigma}')\n",
    "\n",
    "hoc.par.alpha=0.5\n",
    "#hvad sker der med HM/HF forholdet ved ændring i alpha\n",
    "for sigma in [0.5,1.0,1.5]:\n",
    "    hoc.par.sigma=sigma\n",
    "    solve=hoc.solve_discrete()\n",
    "    print(f'HF = {solve.H_F}, HM = {solve.H_M}, HF/HM = {solve.H_F/solve.H_M:5.3}, alpha={hoc.par.alpha:4}, sigma={sigma}')\n",
    "\n",
    "hoc.par.sigma=1"
   ]
  },
  {
   "attachments": {},
   "cell_type": "markdown",
   "metadata": {},
   "source": [
    "From this we see, that as $\\alpha$ increase, the hours working at home ratio between women and men also increases, and as such skews towards women working at home.\n",
    "\n",
    "For $\\sigma$ we see that men only work at home with $\\sigma=1$, while women also work at home with $\\sigma>1$ and tends to work more as $\\sigma$ increases."
   ]
  },
  {
   "attachments": {},
   "cell_type": "markdown",
   "metadata": {},
   "source": [
    "**Question 2**"
   ]
  },
  {
   "attachments": {},
   "cell_type": "markdown",
   "metadata": {},
   "source": []
  },
  {
   "cell_type": "code",
   "execution_count": 4,
   "metadata": {},
   "outputs": [
    {
     "name": "stdout",
     "output_type": "stream",
     "text": [
      "0.6931471805599453\n"
     ]
    }
   ],
   "source": [
    "a=np.log(2)\n",
    "print(a)"
   ]
  },
  {
   "cell_type": "code",
   "execution_count": 5,
   "metadata": {},
   "outputs": [
    {
     "name": "stdout",
     "output_type": "stream",
     "text": [
      "H_F = 5.0, H_M = 4.0, w_F = 0.8, w_M = 1.0, log(HF/HM) =  0.223, log(w_F/w_M)=-0.223\n",
      "H_F = 4.5, H_M = 4.5, w_F = 0.9, w_M = 1.0, log(HF/HM) =    0.0, log(w_F/w_M)=-0.105\n",
      "H_F = 4.5, H_M = 4.5, w_F = 1.0, w_M = 1.0, log(HF/HM) =    0.0, log(w_F/w_M)=   0.0\n",
      "H_F = 4.0, H_M = 4.5, w_F = 1.1, w_M = 1.0, log(HF/HM) = -0.118, log(w_F/w_M)=0.0953\n",
      "H_F = 4.0, H_M = 5.0, w_F = 1.2, w_M = 1.0, log(HF/HM) = -0.223, log(w_F/w_M)= 0.182\n"
     ]
    }
   ],
   "source": [
    "for w_F in hoc.par.w_F_vec:\n",
    "    hoc.par.w_F=w_F\n",
    "    solve=hoc.solve_discrete()\n",
    "    print(f'H_F = {solve.H_F}, H_M = {solve.H_M}, w_F = {w_F}, w_M = {hoc.par.w_M}, log(HF/HM) = {np.log(solve.H_F/solve.H_M):6.3}, log(w_F/w_M)={np.log(w_F/hoc.par.w_M):6.3}')\n",
    "hoc.par.w_F=1\n"
   ]
  },
  {
   "attachments": {},
   "cell_type": "markdown",
   "metadata": {},
   "source": [
    "**Question 3**"
   ]
  },
  {
   "attachments": {},
   "cell_type": "markdown",
   "metadata": {},
   "source": [
    "dadadaad"
   ]
  },
  {
   "cell_type": "code",
   "execution_count": 7,
   "metadata": {},
   "outputs": [
    {
     "name": "stdout",
     "output_type": "stream",
     "text": [
      "H_F = 5.096, H_M = 4.087, w_F = 0.8, w_M = 1.0, log(HF/HM) =  0.221, log(w_F/w_M)=-0.223\n",
      "H_F = 4.494, H_M = 4.489, w_F = 0.9, w_M = 1.0, log(HF/HM) = 0.000974, log(w_F/w_M)=-0.105\n",
      "H_F = 4.454, H_M = 4.454, w_F = 1.0, w_M = 1.0, log(HF/HM) = 6.12e-09, log(w_F/w_M)=   0.0\n",
      "H_F = 4.415, H_M = 4.419, w_F = 1.1, w_M = 1.0, log(HF/HM) = -0.000873, log(w_F/w_M)=0.0953\n",
      "H_F = 4.378, H_M = 4.385, w_F = 1.2, w_M = 1.0, log(HF/HM) = -0.00166, log(w_F/w_M)= 0.182\n"
     ]
    }
   ],
   "source": [
    "for w_F in hoc.par.w_F_vec:\n",
    "    hoc.par.w_F=w_F\n",
    "    solve=hoc.solve_continued()\n",
    "    print(f'H_F = {solve.H_F:.4}, H_M = {solve.H_M:.4}, w_F = {w_F}, w_M = {hoc.par.w_M}, log(HF/HM) = {np.log(solve.H_F/solve.H_M):6.3}, log(w_F/w_M)={np.log(w_F/hoc.par.w_M):6.3}')\n",
    "hoc.par.w_F=1"
   ]
  },
  {
   "attachments": {},
   "cell_type": "markdown",
   "metadata": {},
   "source": [
    "**Question 4**"
   ]
  },
  {
   "attachments": {},
   "cell_type": "markdown",
   "metadata": {},
   "source": [
    "ladada"
   ]
  },
  {
   "cell_type": "code",
   "execution_count": null,
   "metadata": {},
   "outputs": [],
   "source": []
  }
 ],
 "metadata": {
  "kernelspec": {
   "display_name": "base",
   "language": "python",
   "name": "python3"
  },
  "language_info": {
   "codemirror_mode": {
    "name": "ipython",
    "version": 3
   },
   "file_extension": ".py",
   "mimetype": "text/x-python",
   "name": "python",
   "nbconvert_exporter": "python",
   "pygments_lexer": "ipython3",
   "version": "3.9.16"
  },
  "orig_nbformat": 4
 },
 "nbformat": 4,
 "nbformat_minor": 2
}
