{
 "cells": [
  {
   "attachments": {},
   "cell_type": "markdown",
   "metadata": {},
   "source": [
    "**Table of contents**<a id='toc0_'></a>    \n",
    "- 1. [Problem 1: Optimal taxation with government consumption](#toc1_)    \n",
    "- 2. [Problem 2: Labor adjustment costs](#toc2_)    \n",
    "- 3. [Problem 3: Global optimizer with refined multi-start](#toc3_)    \n",
    "\n",
    "<!-- vscode-jupyter-toc-config\n",
    "\tnumbering=true\n",
    "\tanchor=true\n",
    "\tflat=false\n",
    "\tminLevel=2\n",
    "\tmaxLevel=6\n",
    "\t/vscode-jupyter-toc-config -->\n",
    "<!-- THIS CELL WILL BE REPLACED ON TOC UPDATE. DO NOT WRITE YOUR TEXT IN THIS CELL -->"
   ]
  },
  {
   "cell_type": "code",
   "execution_count": 1,
   "metadata": {},
   "outputs": [],
   "source": [
    "import numpy as np\n",
    "import scipy.optimize as optimize\n",
    "import matplotlib.pyplot as plt\n",
    "import sympy as sm\n",
    "import ipywidgets as widgets\n",
    "from types import SimpleNamespace\n",
    "\n",
    "%load_ext autoreload \n",
    "%autoreload 2"
   ]
  },
  {
   "attachments": {},
   "cell_type": "markdown",
   "metadata": {},
   "source": [
    "## 1. <a id='toc1_'></a>[Problem 1: Optimal taxation with government consumption](#toc0_)"
   ]
  },
  {
   "attachments": {},
   "cell_type": "markdown",
   "metadata": {},
   "source": [
    "\n",
    "Consider a worker choosing hours of labor, $L\\in[0,24]$, to maximize utility: \n",
    "\n",
    "$$\n",
    "\\begin{align*}\n",
    "V(w,\\tau,G)&=\\max_{L\\in[0,24]}\\ln\\left(C^{\\alpha}G^{1-\\alpha}\\right)-\\nu\\frac{L^{2}}{2}\\\\&\\text{s.t.}\\\\&C=\\kappa+(1-\\tau)wL\n",
    "\\end{align*}\n",
    "$$\n",
    "\n",
    "where \n",
    "\n",
    "* $C$ is *private* consumption with weight $\\alpha\\in(0,1)$.\n",
    "* $\\kappa > 0$ is the *free private* consumption component.\n",
    "* $(1-\\tau)wL$ is the *costly private* consumption component.\n",
    "* $w > 0 $ is the real wage.\n",
    "* $\\tau \\in (0,1)$ is the labor-income tax rate.\n",
    "* $G > 0 $ is *government* consumption with weight $1-\\alpha$.\n",
    "* $\\nu > 0$ is the disutility of labor scaling factor"
   ]
  },
  {
   "attachments": {},
   "cell_type": "markdown",
   "metadata": {},
   "source": [
    "\n",
    "The baseline parameters are:\n",
    "\n",
    "$$\n",
    "\\begin{align*}\n",
    "\\alpha &= 0.5\\\\\n",
    "\\kappa &= 1.0\\\\\n",
    "\\nu &= \\frac{1}{2\\cdot16^2} \\\\\n",
    "w &= 1.0 \\\\ \n",
    "\\tau &= 0.30 \\\\\n",
    "\\end{align*}\n",
    "$$"
   ]
  },
  {
   "attachments": {},
   "cell_type": "markdown",
   "metadata": {},
   "source": [
    "**Question 1:** Verify that the optimal labor supply choice is $L^{\\star}(\\tilde{w}) =\\frac{-\\kappa+\\sqrt{\\kappa^{2}+4\\frac{\\alpha}{\\nu}\\tilde{w}^2}}{2\\tilde{w}}$, where $\\tilde{w} = (1-\\tau)w$, for $G\\in\\left\\{1.0 , 2.0\\right\\}$."
   ]
  },
  {
   "cell_type": "code",
   "execution_count": 2,
   "metadata": {},
   "outputs": [],
   "source": [
    "# parameter values\n",
    "par = SimpleNamespace()\n",
    "par.alpha = 0.5\n",
    "par.kappa = 1.0\n",
    "par.nu = 1/(2*16**2)\n",
    "par.w = 1.0\n",
    "par.tau = 0.3"
   ]
  },
  {
   "cell_type": "code",
   "execution_count": 3,
   "metadata": {},
   "outputs": [
    {
     "name": "stdout",
     "output_type": "stream",
     "text": [
      "L (numerical, G=1) = 15.302\n",
      "L (numerical, G=2) = 15.302\n",
      "L (analytical)= 15.302\n"
     ]
    }
   ],
   "source": [
    "# create utility function\n",
    "def V(L,G):\n",
    "    C = par.kappa+(1-par.tau)*par.w*L\n",
    "    utility = np.log(C**(par.alpha)*G**(1-par.alpha))-(par.nu*L**2)/2\n",
    "    return utility\n",
    "\n",
    "# create numerical optimization\n",
    "def optimal_L(G):\n",
    "    obj = lambda L:-V(L,G)\n",
    "    guess = 0.5\n",
    "    bounds = [(0,24)] # ensures labor does not go abvoe 24\n",
    "    result = optimize.minimize(obj,guess,bounds=bounds)\n",
    "    optimal = result.x[0]\n",
    "    return optimal\n",
    "\n",
    "# create optimal labor supply function\n",
    "def Lstar(w):\n",
    "    value = (-par.kappa+np.sqrt(par.kappa**2+4*par.alpha/par.nu*((1-par.tau)*w)**2))/(2*(1-par.tau)*w)\n",
    "    if value < 24:\n",
    "        return value\n",
    "    elif value >=24: # ensures work does not exceed 24 hours\n",
    "        return 24\n",
    "print(f'L (numerical, G=1) = {optimal_L(G=1):.5}')\n",
    "print(f'L (numerical, G=2) = {optimal_L(G=2):.5}')\n",
    "print(f'L (analytical)= {Lstar(w=1.0):.5}')"
   ]
  },
  {
   "attachments": {},
   "cell_type": "markdown",
   "metadata": {},
   "source": [
    "We can see, that the results for optimal L from the numerical solutions, are in line with the results for both G=1 and G=2."
   ]
  },
  {
   "attachments": {},
   "cell_type": "markdown",
   "metadata": {},
   "source": [
    "**Question 2:** Illustrate how $L^{\\star}(\\tilde{w})$ depends on $w$."
   ]
  },
  {
   "cell_type": "code",
   "execution_count": 4,
   "metadata": {},
   "outputs": [
    {
     "name": "stderr",
     "output_type": "stream",
     "text": [
      "C:\\Users\\frede\\AppData\\Local\\Temp\\ipykernel_18916\\2677106987.py:18: RuntimeWarning: invalid value encountered in double_scalars\n",
      "  value = (-par.kappa+np.sqrt(par.kappa**2+4*par.alpha/par.nu*((1-par.tau)*w)**2))/(2*(1-par.tau)*w)\n"
     ]
    },
    {
     "data": {
      "image/png": "[encoded data removed]",
      "text/plain": [
       "<Figure size 640x480 with 1 Axes>"
      ]
     },
     "metadata": {},
     "output_type": "display_data"
    }
   ],
   "source": [
    "# create empty list to store Lstar values\n",
    "Lstar_values = []\n",
    "w_values = np.arange(0,3,0.1)\n",
    "\n",
    "# run loop to add values to list for the plot\n",
    "for w in w_values:\n",
    "    value = Lstar(w)\n",
    "    Lstar_values.append(value)\n",
    "\n",
    "plt.figure()\n",
    "plt.title(\"Optimal labor supply depending on real wage\")\n",
    "plt.ylabel(\"Lstar\")\n",
    "plt.xlabel(\"$w$\")\n",
    "plt.plot(w_values, Lstar_values)\n",
    "plt.show()"
   ]
  },
  {
   "attachments": {},
   "cell_type": "markdown",
   "metadata": {},
   "source": [
    "From this we see, that as real wage increase, the optimal labor supply choice also increase while it looks to converge to 16 hours."
   ]
  },
  {
   "attachments": {},
   "cell_type": "markdown",
   "metadata": {},
   "source": [
    "\n",
    "We now consider a government, who chooses $\\tau$ and spend all of the taxes on government consumption so:\n",
    "\n",
    "$$\n",
    "G = \\tau w L^{\\star}((1-\\tau)w)\n",
    "$$\n",
    "\n",
    "**Question 3:** Plot the implied $L$, $G$ and worker utility for a grid of $\\tau$-values.\n"
   ]
  },
  {
   "cell_type": "code",
   "execution_count": 5,
   "metadata": {},
   "outputs": [
    {
     "name": "stderr",
     "output_type": "stream",
     "text": [
      "C:\\Users\\frede\\AppData\\Local\\Temp\\ipykernel_18916\\215444419.py:6: RuntimeWarning: divide by zero encountered in log\n",
      "  utility = np.log(C**(par.alpha)*G**(1-par.alpha))-(par.nu*L**2)/2\n"
     ]
    },
    {
     "data": {
      "image/png": "[encoded data removed]",
      "text/plain": [
       "<Figure size 640x480 with 1 Axes>"
      ]
     },
     "metadata": {},
     "output_type": "display_data"
    },
    {
     "data": {
      "image/png": "[encoded data removed]",
      "text/plain": [
       "<Figure size 640x480 with 1 Axes>"
      ]
     },
     "metadata": {},
     "output_type": "display_data"
    },
    {
     "data": {
      "image/png": "[encoded data removed]",
      "text/plain": [
       "<Figure size 640x480 with 1 Axes>"
      ]
     },
     "metadata": {},
     "output_type": "display_data"
    }
   ],
   "source": [
    "# create new utility function by inserting the G equation and the optimal L equation\n",
    "def tax_V(tau):\n",
    "    L = (-par.kappa+np.sqrt(par.kappa**2+4*par.alpha/par.nu*((1-tau)*par.w)**2))/(2*(1-tau)*par.w)\n",
    "    G = tau*par.w*L\n",
    "    C = par.kappa+(1-tau)*par.w*L\n",
    "    utility = np.log(C**(par.alpha)*G**(1-par.alpha))-(par.nu*L**2)/2\n",
    "    return utility,G,L\n",
    "\n",
    "t_values = np.arange(0,1,0.05)\n",
    "V_list = []\n",
    "G_list = []\n",
    "L_list = []\n",
    "for tau in t_values:\n",
    "    V = tax_V(tau)[0]\n",
    "    V_list.append(V)\n",
    "\n",
    "for tau in t_values:\n",
    "    G = tax_V(tau)[1]\n",
    "    G_list.append(G)\n",
    "\n",
    "for tau in t_values:\n",
    "    L = tax_V(tau)[2]\n",
    "    L_list.append(L)\n",
    "\n",
    "plt.figure()\n",
    "plt.title(\"Worker utility for given tax\")\n",
    "plt.ylabel(\"$V$\")\n",
    "plt.xlabel(\"$tau$\")\n",
    "plt.plot(t_values,V_list, color=\"orange\")\n",
    "\n",
    "plt.figure()\n",
    "plt.title(\"Government consumption for given tax\")\n",
    "plt.ylabel(\"$G$\")\n",
    "plt.xlabel(\"$tau$\")\n",
    "plt.plot(t_values,G_list, color=\"red\")\n",
    "\n",
    "plt.figure()\n",
    "plt.title(\"Optimal labor supply by given tax\")\n",
    "plt.ylabel(\"$L$\")\n",
    "plt.xlabel(\"$tau$\")\n",
    "plt.plot(t_values,L_list, color=\"blue\")\n",
    "plt.show()"
   ]
  },
  {
   "attachments": {},
   "cell_type": "markdown",
   "metadata": {},
   "source": [
    "From the graphs you can see, that a tax increase decreases labor supply, while government consumption increase at the start until the fewer labor hours start affecting the total too much.\n",
    "\n",
    "From the utility graph we see an optimal tax around 0.5."
   ]
  },
  {
   "attachments": {},
   "cell_type": "markdown",
   "metadata": {},
   "source": [
    "**Question 4:** Find the socially optimal tax rate $\\tau^{\\star}\\in(0,1)$ maximizing worker utility. Illustrate your result."
   ]
  },
  {
   "cell_type": "code",
   "execution_count": 6,
   "metadata": {},
   "outputs": [
    {
     "name": "stdout",
     "output_type": "stream",
     "text": [
      "optimal tax = 0.515\n",
      "optimal utility = 1.86\n"
     ]
    },
    {
     "data": {
      "image/png": "[encoded data removed]",
      "text/plain": [
       "<Figure size 640x480 with 1 Axes>"
      ]
     },
     "metadata": {},
     "output_type": "display_data"
    }
   ],
   "source": [
    "# define a function to optimize the tax\n",
    "def optimal_tax():\n",
    "    obj = lambda tau:-tax_V(tau)[0]\n",
    "    guess = 0.5\n",
    "    result = optimize.minimize(obj,guess)\n",
    "    optimal = result.x[0]\n",
    "    return optimal\n",
    "\n",
    "print(f'optimal tax = {optimal_tax():.3}')\n",
    "print(f'optimal utility = {tax_V(optimal_tax())[0]:.3}')\n",
    "\n",
    "plt.figure()\n",
    "plt.scatter(optimal_tax(),tax_V(optimal_tax())[0], color=\"red\", zorder=5)\n",
    "plt.title(\"Optimal worker utility\")\n",
    "plt.ylabel(\"$V$\")\n",
    "plt.xlabel(\"$tau$\")\n",
    "plt.plot(t_values,V_list, color=\"orange\")\n",
    "plt.show()\n"
   ]
  },
  {
   "attachments": {},
   "cell_type": "markdown",
   "metadata": {},
   "source": [
    "The optimal tax is then $\\tau=0.515$ with a utility of $V=1.86$"
   ]
  },
  {
   "attachments": {},
   "cell_type": "markdown",
   "metadata": {},
   "source": [
    "A more general preference formulation for the worker is:\n",
    "\n",
    "$$\n",
    "\\begin{align*}\n",
    "\\mathcal{V}(w,\\tau,G)&=\\max_{L\\in[0,24]}\\frac{\\left[ \\left( \\alpha C^{\\frac{\\sigma-1}{\\sigma}}+(1-\\alpha) G^{\\frac{\\sigma-1}{\\sigma}} \\right)^{\\frac{\\sigma}{1-\\sigma} }\\right]^{1-\\rho}-1}{1-\\rho}- \\nu\\frac{L^{1+\\varepsilon}}{1+\\varepsilon},\\,\\,\\,\\varepsilon,\\rho,\\sigma>0,\\,\\,\\,\\rho,\\sigma\\neq1\\\\&\\text{s.t.}\\\\&C=\\kappa+(1-\\tau)wL\n",
    "\\end{align*}    \n",
    "$$\n",
    "\n",
    "Optimal labor supply is now $L^{\\star}(\\tilde{w},G)$."
   ]
  },
  {
   "attachments": {},
   "cell_type": "markdown",
   "metadata": {},
   "source": [
    "Questions 5 and 6 must be answered with the general formulation, and for 2 different set of parameters:\n",
    "\n",
    "- Set 1:  $\\sigma = 1.001$, $\\rho = 1.001$ and $\\varepsilon = 1.0$.\n",
    "- Set 2:  $\\sigma = 1.5$, $\\rho = 1.5$ and $\\varepsilon = 1.0 $."
   ]
  },
  {
   "attachments": {},
   "cell_type": "markdown",
   "metadata": {},
   "source": [
    "**Question 5:** Find the $G$ that solves $G = \\tau w L^{\\star}((1-\\tau)w,G)$ using the $\\tau$ found in question 4.\n",
    "\n",
    "*Hint: First write code that solves the worker problem for given values of $G$ and $\\tau$. Then find the correct G based on this.*"
   ]
  },
  {
   "cell_type": "code",
   "execution_count": 7,
   "metadata": {},
   "outputs": [
    {
     "name": "stdout",
     "output_type": "stream",
     "text": [
      "For: Sigma = 1.001, Rho = 1.001, Epsilon = 1.0\n",
      "G = 5.0\n",
      "For: Sigma = 1.5, Rho = 1.5, Epsilon = 1.0\n",
      "G = 2.362\n"
     ]
    }
   ],
   "source": [
    "# setting the tax rate to the optimal found in Q4 and adding the new parameters\n",
    "par.sigma = 1.001\n",
    "par.rho = 1.001\n",
    "par.epsilon = 1.0\n",
    "par.tau=optimal_tax()\n",
    "\n",
    "def new_V(L,G):\n",
    "    C = par.kappa+(1-par.tau)*par.w*L\n",
    "    utility = (((par.alpha*C**((par.sigma-1)/par.sigma)+(1+par.alpha)*G**((par.sigma-1)/par.sigma))**(par.sigma/(par.sigma-1)))**(1-par.rho)-1)/(1-par.rho)-par.nu*L**(1+par.epsilon)/(1+par.epsilon)\n",
    "    return utility\n",
    "\n",
    "\n",
    "# find the optimal L given G\n",
    "def new_optimal_L(G):\n",
    "    obj = lambda L:-new_V(L,G=G)\n",
    "    guess = 0.5\n",
    "    bounds = [(0,24)] # ensures labor does not go above 24\n",
    "    result = optimize.minimize(obj,guess, bounds=bounds)\n",
    "    optimal = result.x[0]\n",
    "    return optimal\n",
    "\n",
    "# find the optimal G\n",
    "def new_optimal_G():\n",
    "    obj = lambda G: G - (par.tau*par.w*new_optimal_L(G))\n",
    "    guess = 5\n",
    "    result = optimize.root(obj,guess) # finds the value of G that makes the objective function 0\n",
    "    optimal = result.x[0]\n",
    "    return optimal\n",
    "\n",
    "print(f'For: Sigma = {par.sigma}, Rho = {par.rho}, Epsilon = {par.epsilon}')\n",
    "print(f'G = {new_optimal_G():.4}')\n",
    "# changing parameter values\n",
    "par.sigma = 1.5\n",
    "par.rho = 1.5\n",
    "print(f'For: Sigma = {par.sigma}, Rho = {par.rho}, Epsilon = {par.epsilon}')\n",
    "print(f'G = {new_optimal_G():.4}')"
   ]
  },
  {
   "attachments": {},
   "cell_type": "markdown",
   "metadata": {},
   "source": [
    "Given the taxrate found in question 4, I get an optimal G value of $G=5$ for $\\sigma = 1.001$, $\\rho = 1.001$ and $\\varepsilon = 1.0$.\n",
    "\n",
    "And an optimal value of $G=2.362$ for $\\sigma = 1.5$, $\\rho = 1.5$ and $\\varepsilon = 1.0$."
   ]
  },
  {
   "attachments": {},
   "cell_type": "markdown",
   "metadata": {},
   "source": [
    "**Question 6:** Find the socially optimal tax rate, $\\tau^{\\star}$, maximizing worker utility, while keeping $G = \\tau w L^{\\star}((1-\\tau)w,G)$."
   ]
  },
  {
   "cell_type": "code",
   "execution_count": 8,
   "metadata": {},
   "outputs": [
    {
     "name": "stdout",
     "output_type": "stream",
     "text": [
      "For: Sigma = 1.001, Rho = 1.001, Epsilon = 1.0\n"
     ]
    },
    {
     "name": "stderr",
     "output_type": "stream",
     "text": [
      "C:\\Users\\frede\\AppData\\Local\\Temp\\ipykernel_18916\\1702763763.py:9: RuntimeWarning: invalid value encountered in power\n",
      "  utility = (((par.alpha*C**((par.sigma-1)/par.sigma)+(1+par.alpha)*G**((par.sigma-1)/par.sigma))**(par.sigma/(par.sigma-1)))**(1-par.rho)-1)/(1-par.rho)-par.nu*L**(1+par.epsilon)/(1+par.epsilon)\n"
     ]
    },
    {
     "name": "stdout",
     "output_type": "stream",
     "text": [
      "tau = 0.5\n",
      "For: Sigma = 1.5, Rho = 1.5, Epsilon = 1.0\n",
      "tau = 0.64\n"
     ]
    }
   ],
   "source": [
    "# reset values\n",
    "par.sigma = 1.001\n",
    "par.rho = 1.001\n",
    "\n",
    "def tax_obj(tau):\n",
    "    par.tau=tau\n",
    "    Lstar = new_optimal_L(new_optimal_G())\n",
    "    Gstar = par.tau*par.w*Lstar\n",
    "    C = par.kappa+(1-par.tau)*par.w*Lstar\n",
    "    utility = (((par.alpha*C**((par.sigma-1)/par.sigma)+(1+par.alpha)*Gstar**((par.sigma-1)/par.sigma))**(par.sigma/(par.sigma-1)))**(1-par.rho)-1)/(1-par.rho)-par.nu*Lstar**(1+par.epsilon)/(1+par.epsilon)\n",
    "    return -utility\n",
    "\n",
    "def new_optimal_tax():\n",
    "    guess = 0.5\n",
    "    bounds = [(0,1)]\n",
    "    result = optimize.minimize(tax_obj,guess,bounds=bounds)\n",
    "    optimal = result.x[0]\n",
    "    return optimal\n",
    "\n",
    "print(f'For: Sigma = {par.sigma}, Rho = {par.rho}, Epsilon = {par.epsilon}')\n",
    "print(f'tau = {new_optimal_tax():.3}')\n",
    "# changing parameter values\n",
    "par.sigma = 1.5\n",
    "par.rho = 1.5\n",
    "print(f'For: Sigma = {par.sigma}, Rho = {par.rho}, Epsilon = {par.epsilon}')\n",
    "print(f'tau = {new_optimal_tax():.3}')"
   ]
  },
  {
   "attachments": {},
   "cell_type": "markdown",
   "metadata": {},
   "source": [
    " For $\\sigma = 1.001$, $\\rho = 1.001$ and $\\varepsilon = 1.0$ we get an optimal tax rate of $\\tau=0.5$\n",
    "\n",
    "And an optimal tax of $\\tau=0.64$ for $\\sigma = 1.5$, $\\rho = 1.5$ and $\\varepsilon = 1.0$."
   ]
  },
  {
   "attachments": {},
   "cell_type": "markdown",
   "metadata": {},
   "source": [
    "## 2. <a id='toc2_'></a>[Problem 2: Labor adjustment costs](#toc0_)"
   ]
  },
  {
   "attachments": {},
   "cell_type": "markdown",
   "metadata": {},
   "source": [
    "You own a hair salon. You employ hairdressers, $\\ell_t$, to produce haircuts, $y_t = \\ell_t$.\n",
    "\n",
    "The wage for each haridresser is $w$.\n",
    "\n",
    "The demand for haircuts implies that the price of haircuts you can charge is $p_t = \\kappa_t y_t^{-\\eta}$, where $\\kappa_t$ is a demand-shock and $\\eta \\in (0,1)$ measures the elasticity of demand.\n",
    "\n",
    "Profits are:\n",
    "\n",
    "$$\n",
    "\\Pi_t = p_t y_t - w \\ell_t = \\kappa_t \\ell_t^{1-\\eta} - w \\ell_t\n",
    "$$"
   ]
  },
  {
   "attachments": {},
   "cell_type": "markdown",
   "metadata": {},
   "source": [
    "Baseline parameters are:\n",
    "- $\\eta = 0.5$\n",
    "- $w = 1.0$"
   ]
  },
  {
   "attachments": {},
   "cell_type": "markdown",
   "metadata": {},
   "source": [
    "**Question 1:** Verify numerically that $\\ell_{t}=\\left(\\frac{(1-\\eta)\\kappa_{t}}{w}\\right)^{\\frac{1}{\\eta}}$ maximises profits, for $\\kappa\\in\\left\\{1.0 , 2.0\\right\\}$."
   ]
  },
  {
   "cell_type": "code",
   "execution_count": 9,
   "metadata": {},
   "outputs": [
    {
     "name": "stdout",
     "output_type": "stream",
     "text": [
      "for kappa = 1:\n",
      "analytical: l = 0.25, numerical:0.25\n",
      "for kappa = 2:\n",
      "analytical: l = 1.0, numerical:1.0\n"
     ]
    }
   ],
   "source": [
    "# baseline parameter values\n",
    "par.eta = 0.5\n",
    "par.w = 1.0\n",
    "\n",
    "# define profit function\n",
    "def profits(kappa,l):\n",
    "    pi = kappa*l**(1-par.eta)-par.w*l\n",
    "    return pi\n",
    "\n",
    "# define numerical solution\n",
    "def num_opt_l(kappa):\n",
    "    obj = lambda l: -profits(kappa,l)\n",
    "    guess = 0.5\n",
    "    result = optimize.minimize(obj,guess)\n",
    "    optimal = result.x[0]\n",
    "    return optimal\n",
    "\n",
    "# define analytical solution\n",
    "opt_l = lambda kappa: ((1-par.eta)*kappa/par.w)**(1/par.eta)\n",
    "\n",
    "print(\"for kappa = 1:\")\n",
    "print(f'analytical: l = {opt_l(1)}, numerical:{num_opt_l(1):.5}')\n",
    "print(\"for kappa = 2:\")\n",
    "print(f'analytical: l = {opt_l(2)}, numerical:{num_opt_l(2):.5}')"
   ]
  },
  {
   "attachments": {},
   "cell_type": "markdown",
   "metadata": {},
   "source": [
    "As the optimal $\\ell$ values are the same for the numerical and analytical solution for both $\\kappa=1$ and $\\kappa=2$, we have verified that the function maximizes profits."
   ]
  },
  {
   "attachments": {},
   "cell_type": "markdown",
   "metadata": {},
   "source": [
    "We now consider a *dynamic* version of the model.\n",
    "\n",
    "* The demand-shock is a so-called AR(1) in logs, \n",
    "\n",
    "$$\n",
    "\\log \\kappa_{t} = \\rho \\log \\kappa_{t-1} + \\epsilon_{t},\\,\\,\\, \\epsilon_{t+1} \\sim \\mathcal{N}(-0.5\\sigma_{\\epsilon}^2,\\sigma_{\\epsilon})\n",
    "$$\n",
    "\n",
    "* Any hiring or firing implies a fixed adjustment cost, $\\iota > 0 $.\n",
    "* Future profits are discounted with a monthly factor of $R \\in (0,1)$.\n",
    "\n",
    "The initial demand shock is $\\kappa_{-1} = 1$ and the planning horizon is 10 years, i.e. 120 months so $t \\in \\{0,1,2,\\dots,119\\}$. Initially you don't have any employees, $\\ell_{-1}=0$"
   ]
  },
  {
   "attachments": {},
   "cell_type": "markdown",
   "metadata": {},
   "source": [
    "\n",
    "The *ex post* value of the salon is *conditional* on the shock series is:\n",
    "\n",
    "$$\n",
    "h(\\epsilon_0,\\epsilon_1,\\dots,\\epsilon_{119}) = \\left[\\sum_{t=0}^{119}R^{-t}\\left[\\kappa_{t}\\ell_{t}^{1-\\eta}-w\\ell_{t}-\\boldsymbol{1}_{\\ell_{t}\\neq\\ell_{t-1}}\\iota\\right]\\right]\n",
    "$$\n",
    "\n",
    "The *ex ante* expected value of the salon can be approximated by\n",
    "\n",
    "$$\n",
    "H = \\mathbb{E}[h(\\epsilon_0,\\epsilon_1,\\dots,\\epsilon_{119})] \\approx \\frac{1}{K}\\sum_{k=0}^{K} h(\\epsilon_0^k,\\epsilon_1^k,\\dots,\\epsilon_{119}^k)\n",
    "$$\n",
    "\n",
    "where each $k\\in\\{0,1,\\dots,K-1\\}$ is a random shock series. Maximizing profitability means maximizing $H$.\n"
   ]
  },
  {
   "attachments": {},
   "cell_type": "markdown",
   "metadata": {},
   "source": [
    "Baseline parameters are: \n",
    "\n",
    "- $\\rho = 0.90$\n",
    "- $\\iota = 0.01$\n",
    "- $\\sigma_{\\epsilon} = 0.10$\n",
    "- $R = \\left(1+0.01\\right)^{1/12}$"
   ]
  },
  {
   "attachments": {},
   "cell_type": "markdown",
   "metadata": {},
   "source": [
    "**Question 2:** Calculate $H$ if the policy  $\\ell_{t}=\\left(\\frac{(1-\\eta)\\kappa_{t}}{w}\\right)^{\\frac{1}{\\eta}}$ from question 1 is followed. Choose $K$ so the approximation is good enough to not affect your results substantially."
   ]
  },
  {
   "cell_type": "code",
   "execution_count": 10,
   "metadata": {},
   "outputs": [
    {
     "name": "stdout",
     "output_type": "stream",
     "text": [
      "H = 27.87\n"
     ]
    }
   ],
   "source": [
    "# set parameter values\n",
    "par.rho = 0.9\n",
    "par. iota = 0.01\n",
    "par.sigma_epsilon = 0.1\n",
    "par.R = (1+0.01)**(1/12)\n",
    "\n",
    "# set seed and generate random normal distribution\n",
    "np.random.seed(2023)\n",
    "size = 120 # number of periods for each h\n",
    "K = 1000 # number of simulations of h\n",
    "\n",
    "# create empty list with h values for each simulation to append\n",
    "h_values = []\n",
    "\n",
    "# simulate the model K times\n",
    "for _ in range(K):\n",
    "    # generate epsilon values\n",
    "    epsilon = np.random.normal(loc=-0.5*par.sigma_epsilon**2, scale=par.sigma_epsilon, size=size)\n",
    "    # store each value of kappa for the AR(1)\n",
    "    kappa_series = np.zeros(120)\n",
    "    kappa_series[0] = 1.0 # initial kappa\n",
    "    for t in range(1,120): # isolate kappa in period t by taking e on both sides\n",
    "        kappa_series[t] = np.exp(par.rho*np.log(kappa_series[t-1])+epsilon[t])\n",
    "\n",
    "    h = 0.0\n",
    "    for t in range(120):\n",
    "        kappa = kappa_series[t]\n",
    "        kappa_prev = kappa_series[t-1]\n",
    "        h += par.R**-t*(kappa*opt_l(kappa)**(1-par.eta)-par.w*opt_l(kappa)-int(t > 0 and opt_l(kappa) != opt_l(kappa_prev)) * par.iota)\n",
    "\n",
    "    h_values.append(h)\n",
    "\n",
    "# Calculate H as the average of value functions\n",
    "H = np.mean(h_values)\n",
    "print(f'H = {H:.4}')\n"
   ]
  },
  {
   "attachments": {},
   "cell_type": "markdown",
   "metadata": {},
   "source": [
    "Next, we consider policies on the form:\n",
    "\n",
    "$$\n",
    "\n",
    "\\ell_{t}=\\begin{cases}\n",
    "\\ell_t^{\\ast}  & \\text{if }\\left|\\ell_{t-1}-\\ell_t^{\\ast} \\right|>\\Delta\\\\\n",
    "\\ell_{t-1} & \\text{else }\n",
    "\\end{cases}\n",
    "\\\\\n",
    "\\text{where}\\,\\,\\ell_t^{\\ast} = \\left(\\frac{(1-\\eta)\\kappa_{t}}{w}\\right)^{\\frac{1}{\\eta}} \\\\\n",
    "\n",
    "$$\n",
    "With $\\Delta \\geq 0$ and $\\Delta = 0$ being the previous policy.\n"
   ]
  },
  {
   "attachments": {},
   "cell_type": "markdown",
   "metadata": {},
   "source": [
    "**Question 3:** Calculate $H$ if the policy above was followed with $\\Delta = 0.05$. Does it improve profitability?"
   ]
  },
  {
   "cell_type": "code",
   "execution_count": 11,
   "metadata": {},
   "outputs": [
    {
     "name": "stdout",
     "output_type": "stream",
     "text": [
      "H = 28.24\n"
     ]
    }
   ],
   "source": [
    "par.delta = 0.05\n",
    "# change the definition of l_opt to fit the new policy\n",
    "def new_l_opt(kappa,l_prev):\n",
    "    lstar = ((1-par.eta)*kappa/par.w)**(1/par.eta)\n",
    "    if abs(l_prev-lstar) > par.delta:\n",
    "        return lstar\n",
    "    else:\n",
    "        return l_prev\n",
    "\n",
    "# create empty list with h values for each simulation to append\n",
    "h_values = []\n",
    "\n",
    "for _ in range(K):\n",
    "    # generate epsilon values\n",
    "    epsilon = np.random.normal(loc=-0.5 * par.sigma_epsilon**2, scale=par.sigma_epsilon, size=size)\n",
    "    # store each value of kappa for the AR(1)\n",
    "    kappa_series = np.zeros(120)\n",
    "    kappa_series[0] = 1.0  # initial kappa\n",
    "    for t in range(1, 120):  # isolate kappa in period t by taking e on both sides\n",
    "        kappa_series[t] = np.exp(par.rho * np.log(kappa_series[t - 1]) + epsilon[t])\n",
    "\n",
    "    l_prev = 0.0  # initial labor at t = -1\n",
    "    h = 0.0 # start value for h before looping\n",
    "    for t in range(120):\n",
    "        kappa = kappa_series[t]\n",
    "        l = new_l_opt(kappa, l_prev)\n",
    "        h += par.R**-t * (kappa * l**(1 - par.eta) - par.w * l - int(t>0 and l != l_prev)*par.iota)\n",
    "        l_prev = l\n",
    "    \n",
    "    h_values.append(h)\n",
    "\n",
    "# Calculate H as the average of value functions\n",
    "H = np.mean(h_values)\n",
    "print(f'H = {H:.4}')"
   ]
  },
  {
   "attachments": {},
   "cell_type": "markdown",
   "metadata": {},
   "source": [
    "**Question 4:** Find the optimal $\\Delta$ maximizing $H$. Illustrate your result."
   ]
  },
  {
   "cell_type": "code",
   "execution_count": 12,
   "metadata": {},
   "outputs": [
    {
     "data": {
      "image/png": "[encoded data removed]",
      "text/plain": [
       "<Figure size 640x480 with 1 Axes>"
      ]
     },
     "metadata": {},
     "output_type": "display_data"
    },
    {
     "name": "stdout",
     "output_type": "stream",
     "text": [
      "optimal delta: 0.083, H = 28.28\n"
     ]
    }
   ],
   "source": [
    "delta_range = np.linspace(0,1,25)\n",
    "H_list = []\n",
    "\n",
    "for delta in delta_range:\n",
    "    par.delta = delta\n",
    "    for _ in range(K):\n",
    "        # generate epsilon values\n",
    "        epsilon = np.random.normal(loc=-0.5 * par.sigma_epsilon**2, scale=par.sigma_epsilon, size=size)\n",
    "        # store each value of kappa for the AR(1)\n",
    "        kappa_series = np.zeros(120)\n",
    "        kappa_series[0] = 1.0  # initial kappa\n",
    "        for t in range(1, 120):  # isolate kappa in period t by taking e on both sides\n",
    "            kappa_series[t] = np.exp(par.rho * np.log(kappa_series[t - 1]) + epsilon[t])\n",
    "\n",
    "        l_prev = 0.0  # initial labor at t = -1\n",
    "        h = 0.0 # start value for h before looping\n",
    "        for t in range(120):\n",
    "            kappa = kappa_series[t]\n",
    "            l = new_l_opt(kappa, l_prev)\n",
    "            h += par.R**-t * (kappa * l**(1 - par.eta) - par.w * l - int(t>0 and l != l_prev)*par.iota)\n",
    "            l_prev = l\n",
    "    \n",
    "        h_values.append(h)\n",
    "    H = np.mean(h_values)\n",
    "    H_list.append(H)\n",
    "\n",
    "par.delta = 0.05\n",
    "\n",
    "plt.figure()\n",
    "plt.title(\"Optimal delta for H\")\n",
    "plt.ylabel(\"$H$\")\n",
    "plt.xlabel(\"$delta$\")\n",
    "plt.plot(delta_range,H_list, color=\"green\")\n",
    "plt.show()\n",
    "\n",
    "delta_dict = dict(zip(H_list,delta_range))\n",
    "maxH = max(delta_dict.keys())\n",
    "print(f'optimal delta: {delta_dict[maxH]:.2}, H = {maxH:.4}')"
   ]
  },
  {
   "attachments": {},
   "cell_type": "markdown",
   "metadata": {},
   "source": [
    "**Question 5:** Suggest an alternative policy you believe might improve profitability. Implement and test your policy."
   ]
  },
  {
   "attachments": {},
   "cell_type": "markdown",
   "metadata": {},
   "source": [
    "I make an alternative policy where they only change $\\ell$ if the demand shock is deveating a lot from the average shock"
   ]
  },
  {
   "cell_type": "code",
   "execution_count": 13,
   "metadata": {},
   "outputs": [
    {
     "name": "stdout",
     "output_type": "stream",
     "text": [
      "H = 27.78\n"
     ]
    }
   ],
   "source": [
    "# change the definition of l_opt to fit the alternative policy\n",
    "def alt_l_opt(kappa,l_prev,kappa_series):\n",
    "    lstar = ((1-par.eta)*kappa/par.w)**(1/par.eta)\n",
    "    if abs(kappa-np.mean(kappa_series)) > 1/16:\n",
    "        return lstar\n",
    "    else:\n",
    "        return l_prev\n",
    "\n",
    "# create empty list with h values for each simulation to append\n",
    "h_values = []\n",
    "\n",
    "for _ in range(K):\n",
    "    # generate epsilon values\n",
    "    epsilon = np.random.normal(loc=-0.5 * par.sigma_epsilon**2, scale=par.sigma_epsilon, size=size)\n",
    "    # store each value of kappa for the AR(1)\n",
    "    kappa_series = np.zeros(120)\n",
    "    kappa_series[0] = 1.0  # initial kappa\n",
    "    for t in range(1, 120):  # isolate kappa in period t by taking e on both sides\n",
    "        kappa_series[t] = np.exp(par.rho * np.log(kappa_series[t - 1]) + epsilon[t])\n",
    "\n",
    "    l_prev = 0.0  # initial labor at t = -1\n",
    "    h = 0.0 # start value for h before looping\n",
    "    for t in range(120):\n",
    "        kappa = kappa_series[t]\n",
    "        l = alt_l_opt(kappa, l_prev, kappa_series)\n",
    "        h += par.R**-t * (kappa * l**(1 - par.eta) - par.w * l - int(t>0 and l != l_prev)*par.iota)\n",
    "        l_prev = l\n",
    "    \n",
    "    h_values.append(h)\n",
    "\n",
    "# Calculate H as the average of value functions\n",
    "H = np.mean(h_values)\n",
    "print(f'H = {H:.4}')"
   ]
  },
  {
   "attachments": {},
   "cell_type": "markdown",
   "metadata": {},
   "source": [
    "As we can see from the H value for the alternative model, the suggested policy did not improve profitability."
   ]
  },
  {
   "attachments": {},
   "cell_type": "markdown",
   "metadata": {},
   "source": [
    "## 3. <a id='toc3_'></a>[Problem 3: Global optimizer with refined multi-start](#toc0_)"
   ]
  },
  {
   "attachments": {},
   "cell_type": "markdown",
   "metadata": {},
   "source": [
    "We consider the Griewank function:\n",
    "\n",
    "$$ f(\\boldsymbol{x}) = \\sum^n_{i=1} \\frac{x^2_i}{4000}-\\prod^n_{i=1}\\cos\\left(\\frac{x_i}{\\sqrt{i}}\\right)+1$$\n",
    "\n",
    "The **global minimum** of this function is $f(0,0) = 0$ (remember: $\\cos(0)=1$).<br>\n",
    "But the function also have a lot of **local minima**."
   ]
  },
  {
   "cell_type": "code",
   "execution_count": 14,
   "metadata": {},
   "outputs": [],
   "source": [
    "def griewank(x):\n",
    "    return griewank_(x[0],x[1])\n",
    "    \n",
    "def griewank_(x1,x2):\n",
    "    A = x1**2/4000 + x2**2/4000\n",
    "    B = np.cos(x1/np.sqrt(1))*np.cos(x2/np.sqrt(2))\n",
    "    return A-B+1"
   ]
  },
  {
   "attachments": {},
   "cell_type": "markdown",
   "metadata": {},
   "source": [
    "A **refined global optimizer with multi-start** is:\n",
    "\n",
    "1. Choose *bounds* for $\\mathbf{x}$ and *tolerance* $\\tau > 0$.\n",
    "2. Choose number of *warm-up iterations*, $\\underline{K} > 0$ and *maximum number of iterations*, $K > \\underline{K}$.\n",
    "3. In each iteration for $k \\in \\{0,1,\\dots,K-1\\}$:\n",
    "\n",
    "    A. Draw random $\\mathbf{x}^k$ uniformly within chosen bounds.\n",
    "\n",
    "    B. If $k < \\underline{K}$ go to step E.\n",
    "\n",
    "    C. Calculate $\\chi^k = 0.50\\cdot\\frac{2}{1+\\exp((k-\\underline{K})/100)}$  \n",
    "\n",
    "    D. Set $\\mathbf{x}^{k0} = \\chi^k \\mathbf{x}^k + (1-\\chi^k)\\mathbf{x}^{\\ast} $\n",
    "\n",
    "    E. Run optimizer with $\\mathbf{x}^{k0}$ as initial guess and $\\mathbf{x}^{k\\ast}$ as result.\n",
    "\n",
    "    F. Set $\\mathbf{x}^{\\ast} = \\mathbf{x}^{k\\ast}$ if $k = 0$ or $f(\\mathbf{x}^{k\\ast}) < f(\\mathbf{x}^{\\ast})$\n",
    "\n",
    "    G. If $f(\\mathbf{x}^{\\ast}) < \\tau$ go to step 4.\n",
    "\n",
    "4. Return the result $\\mathbf{x}^{\\ast}$."
   ]
  },
  {
   "attachments": {},
   "cell_type": "markdown",
   "metadata": {},
   "source": [
    "As settings we choose:\n",
    "\n",
    "* $x_1,x_2 \\in  [-600,600]$\n",
    "* $\\tau = 10^{-8}$\n",
    "* $\\underline{K}=10$\n",
    "* $K=1000$\n",
    "\n",
    "The optimizer in Step 3.E is `BFGS` with a tolerance of $\\tau$."
   ]
  },
  {
   "attachments": {},
   "cell_type": "markdown",
   "metadata": {},
   "source": [
    "**Question 1:** Implement the refined global optimizer with multi-start. Illustrate how the effective initial guesses $\\mathbf{x}^{k0}$ vary with the iteration counter $k$."
   ]
  },
  {
   "cell_type": "code",
   "execution_count": 15,
   "metadata": {},
   "outputs": [
    {
     "name": "stdout",
     "output_type": "stream",
     "text": [
      "new best (k =   0): x_k0 = ( -588.8, -1.131) --> converged at: (    -590.3, 6.926e-08), f =   87.2\n",
      "new best (k =   2): x_k0 = (  222.5, -15.61) --> converged at: (     222.9,    -13.32), f =   12.5\n",
      "new best (k =   7): x_k0 = ( -158.3, -6.195) --> converged at: (    -160.1,    -4.438), f =   6.42\n",
      "new best (k =  10): x_k0 = (  66.45, -126.7) --> converged at: (     65.94,    -128.7), f =   5.23\n",
      "new best (k =  11): x_k0 = ( -87.06,  86.05) --> converged at: (    -84.78,     84.33), f =   3.58\n",
      "new best (k =  15): x_k0 = ( -5.616, -44.87) --> converged at: (     -6.28,    -44.38), f =  0.503\n",
      "new best (k =  32): x_k0 = (  21.32,  30.53) --> converged at: (     21.98,     31.07), f =  0.362\n",
      "new best (k =  50): x_k0 = ( -11.44,  23.22) --> converged at: (     -9.42,     22.19), f =  0.145\n",
      "new best (k = 161): x_k0 = (  16.18,  9.819) --> converged at: (     18.84,     8.877), f =  0.109\n",
      "new best (k = 182): x_k0 = ( -18.66, -8.725) --> converged at: (    -18.84,    -8.877), f =  0.109\n",
      "new best (k = 189): x_k0 = (   6.53,  8.002) --> converged at: (      6.28,     8.877), f = 0.0296\n",
      "new best (k = 200): x_k0 = ( -5.711,  10.05) --> converged at: (     -6.28,     8.877), f = 0.0296\n",
      "new best (k = 205): x_k0 = ( -9.762,  1.241) --> converged at: (     -9.42,     4.438), f = 0.0271\n",
      "new best (k = 228): x_k0 = (  1.738,-0.1055) --> converged at: (-2.326e-09,-1.441e-08), f =    0.0\n"
     ]
    },
    {
     "data": {
      "text/plain": [
       "array([-2.32589535e-09, -1.44139897e-08])"
      ]
     },
     "execution_count": 15,
     "metadata": {},
     "output_type": "execute_result"
    }
   ],
   "source": [
    "K_warmup = 10\n",
    "K_max = 1000\n",
    "tolerance = 1e-8\n",
    "bounds = [-600,600]\n",
    "np.random.seed(2022)\n",
    "\n",
    "def ref_global_opt(bounds,tolerance,K_warmup,K_max):\n",
    "    for k in range(K_max):\n",
    "        # generate 2 random numbers in the bounds\n",
    "        x_k = np.random.uniform(low=bounds[0],high=bounds[1],size=2)\n",
    "\n",
    "        # step B\n",
    "        if k < K_warmup:\n",
    "            # initial guess\n",
    "            x_k0 = x_k\n",
    "    \n",
    "        else:\n",
    "            # step C\n",
    "            chi_k = 0.50*2/(1+np.exp((k-K_warmup)/100))\n",
    "            # step D\n",
    "            x_k0 = chi_k*x_k+(1-chi_k)*xstar\n",
    "        \n",
    "        # step E\n",
    "        result = optimize.minimize(griewank,x_k0,tol=tolerance, method=\"BFGS\")\n",
    "        xstar_k = result.x\n",
    "        func = result.fun\n",
    "\n",
    "        # step F\n",
    "        if k==0 or func < bestfunc:\n",
    "            xstar = xstar_k\n",
    "            bestfunc = func\n",
    "            # prints out the starting value and every time a new minima is found\n",
    "            print(f'new best (k = {k:3}): x_k0 = ({x_k0[0]:7.4},{x_k0[1]:7.4}) --> converged at: ({xstar[0]:10.4},{xstar[1]:10.4}), f = {bestfunc:6.3}')\n",
    "        \n",
    "        # step G\n",
    "        if bestfunc < tolerance:\n",
    "            return xstar\n",
    "\n",
    "ref_global_opt(bounds,tolerance,K_warmup,K_max)"
   ]
  },
  {
   "attachments": {},
   "cell_type": "markdown",
   "metadata": {},
   "source": [
    "From the printed results"
   ]
  },
  {
   "attachments": {},
   "cell_type": "markdown",
   "metadata": {},
   "source": [
    "**Question 2:** Is it a better idea to set $\\underline{K} = 100$? Is the convergence faster?"
   ]
  },
  {
   "cell_type": "code",
   "execution_count": 16,
   "metadata": {},
   "outputs": [
    {
     "name": "stdout",
     "output_type": "stream",
     "text": [
      "new best (k =   0): x_k0 = ( -588.8, -1.131) --> converged at: (    -590.3, 6.926e-08), f =   87.2\n",
      "new best (k =   2): x_k0 = (  222.5, -15.61) --> converged at: (     222.9,    -13.32), f =   12.5\n",
      "new best (k =   7): x_k0 = ( -158.3, -6.195) --> converged at: (    -160.1,    -4.438), f =   6.42\n",
      "new best (k =  32): x_k0 = (  55.72,  123.9) --> converged at: (     56.52,     124.3), f =   4.66\n",
      "new best (k =  50): x_k0 = ( -61.31,  11.51) --> converged at: (    -59.66,     13.32), f =  0.935\n",
      "new best (k = 161): x_k0 = (  7.844, -7.634) --> converged at: (      6.28,    -8.877), f = 0.0296\n",
      "new best (k = 289): x_k0 = ( -7.843,  4.506) --> converged at: (     -9.42,     4.438), f = 0.0271\n",
      "new best (k = 400): x_k0 = (  1.044, -4.104) --> converged at: (      3.14,    -4.438), f = 0.0074\n",
      "new best (k = 420): x_k0 = (-0.3851,  3.319) --> converged at: (-6.322e-09,-7.551e-09), f =    0.0\n"
     ]
    },
    {
     "data": {
      "text/plain": [
       "array([-6.32155833e-09, -7.55067204e-09])"
      ]
     },
     "execution_count": 16,
     "metadata": {},
     "output_type": "execute_result"
    }
   ],
   "source": [
    "np.random.seed(2022)\n",
    "K_warmup = 100\n",
    "ref_global_opt(bounds,tolerance,K_warmup,K_max)"
   ]
  }
 ],
 "metadata": {
  "kernelspec": {
   "display_name": "base",
   "language": "python",
   "name": "python3"
  },
  "language_info": {
   "codemirror_mode": {
    "name": "ipython",
    "version": 3
   },
   "file_extension": ".py",
   "mimetype": "text/x-python",
   "name": "python",
   "nbconvert_exporter": "python",
   "pygments_lexer": "ipython3",
   "version": "3.9.16"
  },
  "orig_nbformat": 4
 },
 "nbformat": 4,
 "nbformat_minor": 2
}
